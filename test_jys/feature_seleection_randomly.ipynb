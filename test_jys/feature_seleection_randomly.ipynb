{
 "cells": [
  {
   "cell_type": "code",
   "execution_count": 40,
   "metadata": {},
   "outputs": [],
   "source": [
    "from rdkit import Chem\n",
    "from rdkit.Chem import Descriptors\n",
    "import pandas as pd\n",
    "import numpy as np\n",
    "import random\n",
    "import os\n",
    "os.environ['R_HOME'] = 'C:\\Programming\\R\\R-4.4.2'"
   ]
  },
  {
   "cell_type": "code",
   "execution_count": 41,
   "metadata": {},
   "outputs": [],
   "source": [
    "# 재현성 난수 고정\n",
    "SEED = 100\n",
    "\n",
    "os.environ['PYTHONHASHSEED'] = str(SEED)\n",
    "os.environ['TF_DETERMINISTIC_OPS'] = '1'\n",
    "\n",
    "random.seed(SEED)\n",
    "np.random.seed(SEED)"
   ]
  },
  {
   "cell_type": "code",
   "execution_count": 42,
   "metadata": {},
   "outputs": [
    {
     "name": "stdout",
     "output_type": "stream",
     "text": [
      "['COC(F)(F)C(F)(F)C(F)(F)F', 'COC(F)(F)C(F)(F)F', 'Brc1cc(Br)c(cc1)Oc1ccc(Br)c(Br)c1Br', 'Clc1c(Oc2ccccc2)c(Cl)ccc1Cl', 'Clc1cc(Oc2ccccc2)c(Cl)c(Cl)c1']\n",
      "0    2.75\n",
      "1    3.21\n",
      "2   -8.14\n",
      "3   -3.55\n",
      "4   -3.66\n",
      "Name: Logvp, dtype: float64\n"
     ]
    }
   ],
   "source": [
    "# data load\n",
    "df_name = 'logVP2'\n",
    "df = pd.read_csv('C:\\Programming\\Github\\EGCN\\data\\\\' + df_name + '.csv')\n",
    "\n",
    "smiles_list = df['smiles'].tolist()\n",
    "\n",
    "# target 정의\n",
    "target = df.iloc[:,-1]\n",
    "\n",
    "print(smiles_list[:5])\n",
    "print(target[:5])"
   ]
  },
  {
   "cell_type": "code",
   "execution_count": 43,
   "metadata": {},
   "outputs": [],
   "source": [
    "# 분자 특성 추출 class\n",
    "class MolecularFeatureExtractor:\n",
    "    def __init__(self):\n",
    "        self.descriptors = [desc[0] for desc in Descriptors._descList]\n",
    "\n",
    "    def extract_molecular_features(self, smiles_list):\n",
    "        features_dict = {desc: [] for desc in self.descriptors}\n",
    "\n",
    "        for smiles in smiles_list:\n",
    "            mol = Chem.MolFromSmiles(smiles)\n",
    "            if mol:\n",
    "                for descriptor_name in self.descriptors:\n",
    "                    descriptor_function = getattr(Descriptors, descriptor_name)\n",
    "                    try:\n",
    "                        features_dict[descriptor_name].append(descriptor_function(mol))\n",
    "                    except:\n",
    "                        features_dict[descriptor_name].append(None)\n",
    "            else:\n",
    "                for descriptor_name in self.descriptors:\n",
    "                    features_dict[descriptor_name].append(None)\n",
    "\n",
    "        return pd.DataFrame(features_dict)"
   ]
  },
  {
   "cell_type": "code",
   "execution_count": 44,
   "metadata": {},
   "outputs": [],
   "source": [
    "# 분자 특성 추출 및 데이터프레임 정의\n",
    "extractor = MolecularFeatureExtractor()\n",
    "df_all_features = extractor.extract_molecular_features(smiles_list)"
   ]
  },
  {
   "cell_type": "code",
   "execution_count": 45,
   "metadata": {},
   "outputs": [
    {
     "name": "stdout",
     "output_type": "stream",
     "text": [
      "결측치가 포함된 열 개수: 12 \n",
      "\n",
      "MaxEStateIndex       False\n",
      "MinEStateIndex       False\n",
      "MaxAbsEStateIndex    False\n",
      "MinAbsEStateIndex    False\n",
      "qed                  False\n",
      "                     ...  \n",
      "fr_thiazole          False\n",
      "fr_thiocyan          False\n",
      "fr_thiophene         False\n",
      "fr_unbrch_alkane     False\n",
      "fr_urea              False\n",
      "Length: 208, dtype: bool\n"
     ]
    }
   ],
   "source": [
    "# 결측치가 포함된 feature 개수\n",
    "print('결측치가 포함된 열 개수:', df_all_features.isna().any(axis = 0).sum(), '\\n')\n",
    "print(df_all_features.isna().any(axis = 0))"
   ]
  },
  {
   "cell_type": "code",
   "execution_count": 46,
   "metadata": {},
   "outputs": [
    {
     "name": "stdout",
     "output_type": "stream",
     "text": [
      "제거 후 남은 feature 개수: 196\n"
     ]
    }
   ],
   "source": [
    "# 결측치가 포함된 feature 제거\n",
    "df_removed_features = df_all_features.dropna(axis = 1)\n",
    "num_removed_features = df_removed_features.shape[1]  # logvp 열 제외\n",
    "\n",
    "print(\"제거 후 남은 feature 개수:\", num_removed_features)"
   ]
  },
  {
   "cell_type": "code",
   "execution_count": 47,
   "metadata": {},
   "outputs": [
    {
     "data": {
      "text/plain": [
       "['PEOE_VSA13',\n",
       " 'fr_Ar_NH',\n",
       " 'fr_Ar_N',\n",
       " 'PEOE_VSA7',\n",
       " 'fr_piperdine',\n",
       " 'NumAromaticRings',\n",
       " 'fr_sulfonamd',\n",
       " 'VSA_EState8',\n",
       " 'MolMR',\n",
       " 'fr_N_O',\n",
       " 'Ipc',\n",
       " 'fr_alkyl_halide',\n",
       " 'Kappa3',\n",
       " 'Chi1v',\n",
       " 'fr_sulfone',\n",
       " 'SlogP_VSA8',\n",
       " 'FpDensityMorgan3',\n",
       " 'fr_nitrile',\n",
       " 'fr_lactone',\n",
       " 'SMR_VSA5']"
      ]
     },
     "execution_count": 47,
     "metadata": {},
     "output_type": "execute_result"
    }
   ],
   "source": [
    "removed_features = list(df_removed_features.columns)\n",
    "random.sample(removed_features, 20)"
   ]
  }
 ],
 "metadata": {
  "kernelspec": {
   "display_name": "ys3",
   "language": "python",
   "name": "python3"
  },
  "language_info": {
   "codemirror_mode": {
    "name": "ipython",
    "version": 3
   },
   "file_extension": ".py",
   "mimetype": "text/x-python",
   "name": "python",
   "nbconvert_exporter": "python",
   "pygments_lexer": "ipython3",
   "version": "3.8.20"
  }
 },
 "nbformat": 4,
 "nbformat_minor": 2
}
