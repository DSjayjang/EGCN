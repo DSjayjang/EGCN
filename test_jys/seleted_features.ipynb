{
 "cells": [
  {
   "cell_type": "markdown",
   "metadata": {},
   "source": [
    "# esol"
   ]
  },
  {
   "cell_type": "code",
   "execution_count": null,
   "metadata": {},
   "outputs": [
    {
     "name": "stdout",
     "output_type": "stream",
     "text": [
      "{'fr_ester', 'SlogP_VSA10'}\n",
      "{'PEOE_VSA8', 'fr_barbitur', 'fr_alkyl_halide', 'PEOE_VSA13', 'NumSaturatedRings'}\n"
     ]
    }
   ],
   "source": [
    "esol_3 = ['MolLogP', 'SMR_VSA10', 'MaxEStateIndex'] \n",
    "esol_5 = ['MolLogP', 'SMR_VSA10', 'MaxEStateIndex', 'MaxAbsPartialCharge', 'BCUT2D_CHGHI'] \n",
    "esol_7 = ['MolLogP', 'SMR_VSA10', 'MaxEStateIndex', 'MaxAbsPartialCharge', 'BCUT2D_CHGHI', 'BCUT2D_MWLOW', 'fr_imide'] \n",
    "esol_10 = ['MolLogP', 'SMR_VSA10', 'MaxEStateIndex', 'MaxAbsPartialCharge', 'BCUT2D_CHGHI', 'BCUT2D_MWLOW', 'fr_imide', 'Kappa2', 'MinAbsPartialCharge', 'NumAromaticHeterocycles'] \n",
    "esol_20 = ['MolLogP', 'SMR_VSA10', 'MaxEStateIndex', 'MaxAbsPartialCharge', 'BCUT2D_CHGHI', 'BCUT2D_MWLOW', 'fr_imide', 'Kappa2', 'MinAbsPartialCharge', 'NumAromaticHeterocycles', 'SlogP_VSA1', 'fr_amide', 'BalabanJ', 'fr_Ar_NH', 'PEOE_VSA8', 'NumSaturatedRings', 'fr_NH0', 'PEOE_VSA13', 'fr_barbitur', 'fr_alkyl_halide']\n",
    "esol_elastic = ['MaxEStateIndex', 'MaxAbsPartialCharge', 'MinAbsPartialCharge',\n",
    "       'FpDensityMorgan2', 'BCUT2D_MWLOW', 'BCUT2D_CHGHI', 'BalabanJ',\n",
    "       'Kappa2', 'PEOE_VSA13', 'PEOE_VSA8', 'PEOE_VSA9', 'SMR_VSA10',\n",
    "       'SMR_VSA9', 'SlogP_VSA1', 'SlogP_VSA10', 'SlogP_VSA7', 'EState_VSA10',\n",
    "       'EState_VSA11', 'EState_VSA2', 'EState_VSA5', 'EState_VSA8',\n",
    "       'FractionCSP3', 'NumAromaticHeterocycles', 'NumSaturatedRings',\n",
    "       'MolLogP', 'fr_Al_OH_noTert', 'fr_Ar_NH', 'fr_NH0', 'fr_alkyl_halide',\n",
    "       'fr_amide', 'fr_aryl_methyl', 'fr_barbitur', 'fr_bicyclic', 'fr_ester',\n",
    "       'fr_furan', 'fr_hdrzine', 'fr_imidazole', 'fr_imide',\n",
    "       'fr_nitro_arom_nonortho', 'fr_para_hydroxylation', 'fr_phos_acid']\n",
    "# 41개\n",
    "print(set(esol_elastic) - set(esol_20))\n",
    "print(set(esol_20) - set(esol_elastic))"
   ]
  },
  {
   "cell_type": "markdown",
   "metadata": {},
   "source": [
    "# logvp"
   ]
  },
  {
   "cell_type": "code",
   "execution_count": 4,
   "metadata": {},
   "outputs": [
    {
     "name": "stdout",
     "output_type": "stream",
     "text": [
      "{'fr_amidine', 'NumSaturatedHeterocycles', 'fr_ketone', 'fr_ketone_Topliss', 'fr_Al_OH_noTert', 'FractionCSP3', 'fr_Nhpyrrole', 'PEOE_VSA13', 'PEOE_VSA10', 'qed', 'fr_alkyl_carbamate', 'fr_priamide', 'fr_amide', 'FpDensityMorgan1'}\n",
      "{'NumHAcceptors'}\n"
     ]
    }
   ],
   "source": [
    "logvp_3 = ['Chi1', 'TPSA', 'SMR_VSA10'] \n",
    "logvp_5 = ['Chi1', 'TPSA', 'SMR_VSA10', 'NumHDonors', 'fr_ether'] \n",
    "logvp_7 = ['Chi1', 'TPSA', 'SMR_VSA10', 'NumHDonors', 'fr_ether', 'EState_VSA1', 'NumAliphaticHeterocycles'] \n",
    "logvp_10 = ['Chi1', 'TPSA', 'SMR_VSA10', 'NumHDonors', 'fr_ether', 'EState_VSA1', 'NumAliphaticHeterocycles', 'EState_VSA5', 'SlogP_VSA10', 'MinAbsEStateIndex'] \n",
    "logvp_20 = ['Chi1', 'TPSA', 'SMR_VSA10', 'NumHDonors', 'fr_ether', 'EState_VSA1', 'NumAliphaticHeterocycles', 'EState_VSA5', 'SlogP_VSA10', 'MinAbsEStateIndex', 'NumHAcceptors', 'fr_COO', 'SlogP_VSA8', 'SlogP_VSA1', 'VSA_EState9', 'fr_azo', 'EState_VSA9', 'RingCount', 'PEOE_VSA11', 'VSA_EState8'] \n",
    "\n",
    "logvp_elastic = ['Chi1', 'FpDensityMorgan1', 'MinAbsEStateIndex', 'SMR_VSA10', 'fr_ether', 'fr_COO', 'TPSA', 'FractionCSP3', 'NumHDonors', 'SlogP_VSA1', 'NumAliphaticHeterocycles', 'VSA_EState9', 'EState_VSA1', 'fr_amide', 'fr_Nhpyrrole', 'EState_VSA9', 'fr_azo', 'fr_amidine', 'fr_Al_OH_noTert', 'PEOE_VSA10', 'SlogP_VSA8', 'PEOE_VSA13', 'qed', 'fr_ketone_Topliss', 'VSA_EState8', 'SlogP_VSA10', 'fr_alkyl_carbamate', 'PEOE_VSA11', 'fr_priamide', 'EState_VSA5', 'NumSaturatedHeterocycles', 'RingCount', 'fr_ketone']\n",
    "print(set(logvp_elastic) - set(logvp_20))\n",
    "print(set(logvp_20) - set(logvp_elastic))"
   ]
  },
  {
   "cell_type": "markdown",
   "metadata": {},
   "source": [
    "# freesolv"
   ]
  },
  {
   "cell_type": "code",
   "execution_count": null,
   "metadata": {},
   "outputs": [
    {
     "name": "stdout",
     "output_type": "stream",
     "text": [
      "{'fr_Al_COO', 'NumHDonors', 'MinPartialCharge', 'fr_imide'}\n",
      "{'PEOE_VSA14', 'PEOE_VSA10', 'fr_bicyclic', 'PEOE_VSA2'}\n"
     ]
    }
   ],
   "source": [
    "freesolv_3 = ['NHOHCount', 'SMR_VSA5', 'SlogP_VSA2'] \n",
    "freesolv_5 = ['NHOHCount', 'SMR_VSA5', 'SlogP_VSA2', 'TPSA', 'MaxEStateIndex'] \n",
    "freesolv_7 = ['NHOHCount', 'SMR_VSA5', 'SlogP_VSA2', 'TPSA', 'MaxEStateIndex', 'fr_Ar_NH', 'Chi2v'] \n",
    "freesolv_10 = ['NHOHCount', 'SMR_VSA5', 'SlogP_VSA2', 'TPSA', 'MaxEStateIndex', 'fr_Ar_NH', 'Chi2v', 'SlogP_VSA10', 'NumHeteroatoms', 'RingCount'] \n",
    "freesolv_20 = ['NHOHCount', 'SMR_VSA5', 'SlogP_VSA2', 'TPSA', 'MaxEStateIndex', 'fr_Ar_NH', 'Chi2v', 'SlogP_VSA10', 'NumHeteroatoms', 'RingCount', 'fr_amide', 'NumAromaticHeterocycles', 'PEOE_VSA14', 'SlogP_VSA4', 'VSA_EState8', 'PEOE_VSA2', 'PEOE_VSA10', 'fr_Al_OH', 'fr_bicyclic', 'SMR_VSA2'] \n",
    "freesolv_elastic = ['NHOHCount', 'SlogP_VSA2', 'SMR_VSA5', 'TPSA', 'MaxEStateIndex', 'fr_Ar_NH', 'NumHeteroatoms', 'SMR_VSA2', 'NumAromaticHeterocycles', 'fr_imide', 'SlogP_VSA10', 'SlogP_VSA4', 'fr_amide', 'NumHDonors', 'fr_Al_OH', 'RingCount', 'MinPartialCharge', 'VSA_EState8', 'Chi2v', 'fr_Al_COO']\n",
    "# 20개\n",
    "\n",
    "#25개 ['NHOHCount', 'SlogP_VSA2', 'SMR_VSA5', 'TPSA', 'MaxEStateIndex', 'fr_Ar_NH', 'NumHeteroatoms', 'SMR_VSA2', 'NumAromaticHeterocycles', 'fr_imide', 'SlogP_VSA10', 'SlogP_VSA4', 'fr_amide', 'NumHDonors', 'fr_Al_OH', 'RingCount', 'MinPartialCharge', 'VSA_EState8', 'Chi2v', 'fr_Al_COO', 'EState_VSA6', 'fr_aryl_methyl', 'EState_VSA8', 'PEOE_VSA10', 'fr_ketone_Topliss']\n",
    "# 32개\n",
    "freesolv_elastic = ['SMR_VSA5', 'fr_Ar_NH', 'SlogP_VSA2', 'TPSA', 'MaxEStateIndex', 'fr_amide', 'NumAromaticHeterocycles', 'NumHeteroatoms', 'Chi2v', 'SlogP_VSA10', 'NHOHCount', 'PEOE_VSA10', 'SMR_VSA2', 'SlogP_VSA4', 'VSA_EState8', 'fr_aryl_methyl', 'fr_phos_ester', 'PEOE_VSA7', 'fr_Al_OH', 'NumSaturatedHeterocycles', 'fr_imidazole', 'fr_Al_COO', 'RingCount', 'PEOE_VSA14', 'EState_VSA6', 'fr_ketone_Topliss', 'fr_bicyclic', 'PEOE_VSA2', 'fr_imide', 'fr_nitro_arom_nonortho', 'fr_para_hydroxylation', 'PEOE_VSA8']\n",
    "\n",
    "\n",
    "print(set(freesolv_elastic) - set(freesolv_20))\n",
    "print(set(freesolv_20) - set(freesolv_elastic))"
   ]
  },
  {
   "cell_type": "markdown",
   "metadata": {},
   "source": [
    "# qm9_hc_reduced"
   ]
  },
  {
   "cell_type": "code",
   "execution_count": null,
   "metadata": {},
   "outputs": [],
   "source": [
    "qm9_3 = ['Chi0n', 'Kappa1', 'NHOHCount'] \n",
    "qm9_5 = ['Chi0n', 'Kappa1', 'NHOHCount', 'Chi4n', 'BCUT2D_CHGHI'] \n",
    "qm9_7 = ['Chi0n', 'Kappa1', 'NHOHCount', 'Chi4n', 'BCUT2D_CHGHI', 'NumAliphaticHeterocycles', 'SMR_VSA7'] \n",
    "qm9_10 = ['Chi0n', 'Kappa1', 'NHOHCount', 'Chi4n', 'BCUT2D_CHGHI', 'NumAliphaticHeterocycles', 'SMR_VSA7', 'FractionCSP3', 'BertzCT', 'SMR_VSA10'] \n",
    "qm9_20 = ['Chi0n', 'Kappa1', 'NHOHCount', 'Chi4n', 'BCUT2D_CHGHI', 'NumAliphaticHeterocycles', 'SMR_VSA7', 'FractionCSP3', 'BertzCT', 'SMR_VSA10', 'NumRotatableBonds', 'BalabanJ', 'fr_Al_OH', 'fr_term_acetylene', 'fr_Ar_N', 'BCUT2D_MWLOW', 'fr_NH1', 'FpDensityMorgan3', 'BCUT2D_LOGPLOW', 'PEOE_VSA4'] \n",
    "qm9_elastic = ['Chi0n', 'NHOHCount', 'Chi4n', 'NumAliphaticHeterocycles', 'NumRotatableBonds', 'SMR_VSA7', 'SMR_VSA10', 'Kappa1', 'fr_term_acetylene', 'fr_epoxide', 'fr_NH1', 'BertzCT', 'PEOE_VSA4', 'fr_Al_OH', 'BalabanJ', 'FpDensityMorgan3', 'FpDensityMorgan1', 'fr_aldehyde', 'VSA_EState8', 'BCUT2D_CHGHI', 'SlogP_VSA10', 'PEOE_VSA3', 'NumAromaticHeterocycles', 'FractionCSP3', 'fr_ether', 'fr_oxime', 'fr_Al_COO', 'fr_Ar_N', 'PEOE_VSA8', 'fr_Ar_NH', 'BCUT2D_MWLOW', 'SlogP_VSA5', 'fr_quatN', 'PEOE_VSA11', 'MinPartialCharge', 'fr_Ar_OH']\n",
    "# 36개"
   ]
  },
  {
   "cell_type": "markdown",
   "metadata": {},
   "source": [
    "# hlg_reduced"
   ]
  },
  {
   "cell_type": "code",
   "execution_count": null,
   "metadata": {},
   "outputs": [],
   "source": [
    "hlg_3 = ['SMR_VSA7', 'fr_aldehyde', 'MolLogP'] \n",
    "hlg_5 = ['SMR_VSA7', 'fr_aldehyde', 'MolLogP', 'BCUT2D_MRHI', 'BertzCT'] \n",
    "hlg_7 = ['SMR_VSA7', 'fr_aldehyde', 'MolLogP', 'BCUT2D_MRHI', 'BertzCT', 'MolMR', 'Chi4n'] \n",
    "hlg_10 = ['SMR_VSA7', 'fr_aldehyde', 'MolLogP', 'BCUT2D_MRHI', 'BertzCT', 'MolMR', 'Chi4n', 'fr_NH2', 'NumAromaticRings', 'PEOE_VSA7'] \n",
    "hlg_20 = ['SMR_VSA7', 'fr_aldehyde', 'MolLogP', 'BCUT2D_MRHI', 'BertzCT', 'MolMR', 'Chi4n', 'fr_NH2', 'NumAromaticRings', 'PEOE_VSA7', 'SlogP_VSA6', 'fr_ketone_Topliss', 'fr_ketone', 'VSA_EState4', 'fr_NH0', 'fr_Al_OH', 'NumSaturatedCarbocycles', 'fr_aniline', 'PEOE_VSA14', 'fr_C_O'] \n"
   ]
  }
 ],
 "metadata": {
  "kernelspec": {
   "display_name": "ys3",
   "language": "python",
   "name": "python3"
  },
  "language_info": {
   "codemirror_mode": {
    "name": "ipython",
    "version": 3
   },
   "file_extension": ".py",
   "mimetype": "text/x-python",
   "name": "python",
   "nbconvert_exporter": "python",
   "pygments_lexer": "ipython3",
   "version": "3.8.20"
  }
 },
 "nbformat": 4,
 "nbformat_minor": 2
}
