{
 "cells": [
  {
   "cell_type": "markdown",
   "metadata": {},
   "source": [
    "# esol"
   ]
  },
  {
   "cell_type": "code",
   "execution_count": 15,
   "metadata": {},
   "outputs": [],
   "source": [
    "esol_3 = ['MolLogP', 'SMR_VSA10', 'MaxEStateIndex'] \n",
    "esol_5 = ['MolLogP', 'SMR_VSA10', 'MaxEStateIndex', 'MaxAbsPartialCharge', 'BCUT2D_CHGHI'] \n",
    "esol_7 = ['MolLogP', 'SMR_VSA10', 'MaxEStateIndex', 'MaxAbsPartialCharge', 'BCUT2D_CHGHI', 'BCUT2D_MWLOW', 'fr_imide'] \n",
    "esol_10 = ['MolLogP', 'SMR_VSA10', 'MaxEStateIndex', 'MaxAbsPartialCharge', 'BCUT2D_CHGHI', 'BCUT2D_MWLOW', 'fr_imide', 'Kappa2', 'MinAbsPartialCharge', 'NumAromaticHeterocycles'] \n",
    "esol_20 = ['MolLogP', 'SMR_VSA10', 'MaxEStateIndex', 'MaxAbsPartialCharge', 'BCUT2D_CHGHI', 'BCUT2D_MWLOW', 'fr_imide', 'Kappa2', 'MinAbsPartialCharge', 'NumAromaticHeterocycles', 'SlogP_VSA1', 'fr_amide', 'BalabanJ', 'fr_Ar_NH', 'PEOE_VSA8', 'NumSaturatedRings', 'fr_NH0', 'PEOE_VSA13', 'fr_barbitur', 'fr_alkyl_halide']\n",
    "esol_sf = ['MolLogP', 'BCUT2D_CHGHI', 'MaxAbsPartialCharge', 'fr_Ar_NH', 'MaxEStateIndex', 'SlogP_VSA1', 'PEOE_VSA8', 'BalabanJ', 'NumAromaticHeterocycles', 'PEOE_VSA13', 'Kappa2', 'SMR_VSA10', 'fr_phos_acid', 'EState_VSA11', 'fr_alkyl_halide', 'fr_imidazole', 'fr_hdrzine', 'FractionCSP3', 'EState_VSA5', 'fr_furan', 'MinAbsPartialCharge', 'fr_ester', 'PEOE_VSA9', 'fr_amide', 'fr_Al_OH_noTert', 'fr_imide', 'fr_aryl_methyl', 'fr_NH0', 'NumSaturatedRings', 'BCUT2D_MWLOW', 'fr_bicyclic', 'SMR_VSA9', 'EState_VSA8', 'SlogP_VSA10', 'fr_para_hydroxylation', 'FpDensityMorgan2', 'EState_VSA2', 'SlogP_VSA7', 'fr_nitro_arom_nonortho', 'EState_VSA10', 'fr_barbitur']\n",
    "\n",
    "# 41개"
   ]
  },
  {
   "cell_type": "code",
   "execution_count": 16,
   "metadata": {},
   "outputs": [
    {
     "name": "stdout",
     "output_type": "stream",
     "text": [
      "set()\n",
      "{'SlogP_VSA10', 'fr_nitro_arom_nonortho', 'fr_Al_OH_noTert', 'fr_para_hydroxylation', 'EState_VSA2', 'EState_VSA10', 'EState_VSA8', 'SlogP_VSA7'}\n"
     ]
    }
   ],
   "source": [
    "esol_3 = ['MolLogP', 'MaxAbsPartialCharge', 'SMR_VSA10']\n",
    "esol_5 = ['MolLogP', 'MaxAbsPartialCharge', 'SMR_VSA10', 'fr_Ar_NH', 'BCUT2D_MWLOW']\n",
    "esol_7 = ['MolLogP', 'MaxAbsPartialCharge', 'SMR_VSA10', 'fr_Ar_NH', 'BCUT2D_MWLOW', 'MaxEStateIndex', 'BalabanJ']\n",
    "esol_10 = ['MolLogP', 'MaxAbsPartialCharge', 'SMR_VSA10', 'fr_Ar_NH', 'BCUT2D_MWLOW', 'MaxEStateIndex', 'BalabanJ', 'PEOE_VSA8', 'NumAromaticHeterocycles', 'Kappa2']\n",
    "esol_20 = ['MolLogP', 'MaxAbsPartialCharge', 'SMR_VSA10', 'fr_Ar_NH', 'BCUT2D_MWLOW', 'MaxEStateIndex', 'BalabanJ', 'PEOE_VSA8', 'NumAromaticHeterocycles', 'Kappa2', 'SlogP_VSA1', 'PEOE_VSA13', 'MinAbsPartialCharge', 'BCUT2D_CHGHI', 'EState_VSA11', 'fr_imidazole', 'fr_furan', 'fr_hdrzine', 'EState_VSA5', 'fr_alkyl_halide']\n",
    "\n",
    "#33개\n",
    "esol_elastic = ['MolLogP', 'MaxAbsPartialCharge', 'SMR_VSA10', 'fr_Ar_NH', 'BCUT2D_MWLOW', 'MaxEStateIndex', 'BalabanJ', 'PEOE_VSA8', 'NumAromaticHeterocycles', 'Kappa2', 'SlogP_VSA1', 'PEOE_VSA13', 'MinAbsPartialCharge', 'BCUT2D_CHGHI', 'EState_VSA11', 'fr_imidazole', 'fr_furan', 'fr_hdrzine', 'EState_VSA5', 'fr_alkyl_halide', 'fr_imide', 'NumSaturatedRings', 'fr_phos_acid', 'fr_ester', 'FpDensityMorgan2', 'fr_aryl_methyl', 'PEOE_VSA9', 'fr_NH0', 'SMR_VSA9', 'fr_bicyclic', 'fr_amide', 'FractionCSP3', 'fr_barbitur']\n",
    "\n",
    "print(set(esol_elastic) - set(esol_sf))\n",
    "print(set(esol_sf) - set(esol_elastic))"
   ]
  },
  {
   "cell_type": "markdown",
   "metadata": {},
   "source": [
    "# esol_weight"
   ]
  },
  {
   "cell_type": "code",
   "execution_count": null,
   "metadata": {},
   "outputs": [],
   "source": [
    "esol_weight_3 = ['MolWt', 'SlogP_VSA12']\n",
    "esol_weight_5 = ['MolWt', 'SlogP_VSA12']\n",
    "esol_weight_7 = ['MolWt', 'SlogP_VSA12']\n",
    "esol_weight_10 = ['MolWt', 'SlogP_VSA12']\n",
    "esol_weight_20 = ['MolWt', 'SlogP_VSA12']\n",
    "\n",
    "#2개\n",
    "esol_weight_elastic = ['MolWt', 'SlogP_VSA12']"
   ]
  },
  {
   "cell_type": "markdown",
   "metadata": {},
   "source": [
    "# logvp"
   ]
  },
  {
   "cell_type": "code",
   "execution_count": 10,
   "metadata": {},
   "outputs": [],
   "source": [
    "logvp_3 = ['Chi1', 'TPSA', 'SMR_VSA10'] \n",
    "logvp_5 = ['Chi1', 'TPSA', 'SMR_VSA10', 'NumHDonors', 'fr_ether'] \n",
    "logvp_7 = ['Chi1', 'TPSA', 'SMR_VSA10', 'NumHDonors', 'fr_ether', 'EState_VSA1', 'NumAliphaticHeterocycles'] \n",
    "logvp_10 = ['Chi1', 'TPSA', 'SMR_VSA10', 'NumHDonors', 'fr_ether', 'EState_VSA1', 'NumAliphaticHeterocycles', 'EState_VSA5', 'SlogP_VSA10', 'MinAbsEStateIndex'] \n",
    "logvp_20 = ['Chi1', 'TPSA', 'SMR_VSA10', 'NumHDonors', 'fr_ether', 'EState_VSA1', 'NumAliphaticHeterocycles', 'EState_VSA5', 'SlogP_VSA10', 'MinAbsEStateIndex', 'NumHAcceptors', 'fr_COO', 'SlogP_VSA8', 'SlogP_VSA1', 'VSA_EState9', 'fr_azo', 'EState_VSA9', 'RingCount', 'PEOE_VSA11', 'VSA_EState8'] \n",
    "\n",
    "# 33개\n",
    "logvp_sf = ['Chi1', 'FpDensityMorgan1', 'MinAbsEStateIndex', 'SMR_VSA10', 'fr_ether', 'fr_COO', 'TPSA', 'FractionCSP3', 'NumHDonors', 'SlogP_VSA1', 'NumAliphaticHeterocycles', 'VSA_EState9', 'EState_VSA1', 'fr_amide', 'fr_Nhpyrrole', 'EState_VSA9', 'fr_azo', 'fr_amidine', 'fr_Al_OH_noTert', 'PEOE_VSA10', 'SlogP_VSA8', 'PEOE_VSA13', 'qed', 'fr_ketone_Topliss', 'VSA_EState8', 'SlogP_VSA10', 'fr_alkyl_carbamate', 'PEOE_VSA11', 'fr_priamide', 'EState_VSA5', 'NumSaturatedHeterocycles', 'RingCount', 'fr_ketone']"
   ]
  },
  {
   "cell_type": "code",
   "execution_count": null,
   "metadata": {},
   "outputs": [
    {
     "name": "stdout",
     "output_type": "stream",
     "text": [
      "{'NumHAcceptors', 'fr_lactone'}\n",
      "{'RingCount', 'FractionCSP3', 'fr_amide', 'fr_ketone', 'NumSaturatedHeterocycles'}\n"
     ]
    }
   ],
   "source": [
    "logVP2_3 = ['Chi1', 'SMR_VSA10', 'NumHDonors']\n",
    "logVP2_5 = ['Chi1', 'SMR_VSA10', 'NumHDonors', 'TPSA', 'fr_ether']\n",
    "logVP2_7 = ['Chi1', 'SMR_VSA10', 'NumHDonors', 'TPSA', 'fr_ether', 'EState_VSA1', 'fr_COO']\n",
    "logVP2_10 = ['Chi1', 'SMR_VSA10', 'NumHDonors', 'TPSA', 'fr_ether', 'EState_VSA1', 'fr_COO', 'fr_azo', 'MinAbsEStateIndex', 'NumAliphaticHeterocycles']\n",
    "logVP2_20 = ['Chi1', 'SMR_VSA10', 'NumHDonors', 'TPSA', 'fr_ether', 'EState_VSA1', 'fr_COO', 'fr_azo', 'MinAbsEStateIndex', 'NumAliphaticHeterocycles', 'SlogP_VSA10', 'SlogP_VSA8', 'fr_amidine', 'SlogP_VSA1', 'VSA_EState9', 'EState_VSA5', 'fr_Nhpyrrole', 'PEOE_VSA11', 'qed', 'fr_priamide']\n",
    "\n",
    "#30개\n",
    "logVP2_elastic = ['Chi1', 'SMR_VSA10', 'NumHDonors', 'TPSA', 'fr_ether', 'EState_VSA1', 'fr_COO', 'fr_azo', 'MinAbsEStateIndex', 'NumAliphaticHeterocycles', 'SlogP_VSA10', 'SlogP_VSA8', 'fr_amidine', 'SlogP_VSA1', 'VSA_EState9', 'EState_VSA5', 'fr_Nhpyrrole', 'PEOE_VSA11', 'qed', 'fr_priamide', 'fr_Al_OH_noTert', 'FpDensityMorgan1', 'PEOE_VSA13', 'EState_VSA9', 'VSA_EState8', 'fr_alkyl_carbamate', 'PEOE_VSA10', 'fr_ketone_Topliss', 'fr_lactone', 'NumHAcceptors']\n",
    "print(set(logVP2_elastic) - set(logvp_sf))\n",
    "print(set(logvp_sf) - set(logVP2_elastic))                                                                                             "
   ]
  },
  {
   "cell_type": "markdown",
   "metadata": {},
   "source": [
    "# freesolv"
   ]
  },
  {
   "cell_type": "code",
   "execution_count": 13,
   "metadata": {},
   "outputs": [],
   "source": [
    "freesolv_3 = ['NHOHCount', 'SMR_VSA5', 'SlogP_VSA2'] \n",
    "freesolv_5 = ['NHOHCount', 'SMR_VSA5', 'SlogP_VSA2', 'TPSA', 'MaxEStateIndex'] \n",
    "freesolv_7 = ['NHOHCount', 'SMR_VSA5', 'SlogP_VSA2', 'TPSA', 'MaxEStateIndex', 'fr_Ar_NH', 'Chi2v'] \n",
    "freesolv_10 = ['NHOHCount', 'SMR_VSA5', 'SlogP_VSA2', 'TPSA', 'MaxEStateIndex', 'fr_Ar_NH', 'Chi2v', 'SlogP_VSA10', 'NumHeteroatoms', 'RingCount'] \n",
    "freesolv_20 = ['NHOHCount', 'SMR_VSA5', 'SlogP_VSA2', 'TPSA', 'MaxEStateIndex', 'fr_Ar_NH', 'Chi2v', 'SlogP_VSA10', 'NumHeteroatoms', 'RingCount', 'fr_amide', 'NumAromaticHeterocycles', 'PEOE_VSA14', 'SlogP_VSA4', 'VSA_EState8', 'PEOE_VSA2', 'PEOE_VSA10', 'fr_Al_OH', 'fr_bicyclic', 'SMR_VSA2'] \n",
    "freesolv_elastic = ['NHOHCount', 'SlogP_VSA2', 'SMR_VSA5', 'TPSA', 'MaxEStateIndex', 'fr_Ar_NH', 'NumHeteroatoms', 'SMR_VSA2', 'NumAromaticHeterocycles', 'fr_imide', 'SlogP_VSA10', 'SlogP_VSA4', 'fr_amide', 'NumHDonors', 'fr_Al_OH', 'RingCount', 'MinPartialCharge', 'VSA_EState8', 'Chi2v', 'fr_Al_COO']\n",
    "\n",
    "# 32개\n",
    "freesolv_sf = ['SMR_VSA5', 'fr_Ar_NH', 'SlogP_VSA2', 'TPSA', 'MaxEStateIndex', 'fr_amide', 'NumAromaticHeterocycles',\n",
    "                     'NumHeteroatoms', 'Chi2v', 'SlogP_VSA10', 'NHOHCount', 'PEOE_VSA10', 'SMR_VSA2', 'SlogP_VSA4', 'VSA_EState8',\n",
    "                       'fr_aryl_methyl', 'fr_phos_ester', 'PEOE_VSA7', 'fr_Al_OH', 'NumSaturatedHeterocycles', 'fr_imidazole', 'fr_Al_COO',\n",
    "                         'RingCount', 'PEOE_VSA14', 'EState_VSA6', 'fr_ketone_Topliss', 'fr_bicyclic', 'PEOE_VSA2', 'fr_imide', 'fr_nitro_arom_nonortho', 'fr_para_hydroxylation', 'PEOE_VSA8']"
   ]
  },
  {
   "cell_type": "code",
   "execution_count": 14,
   "metadata": {},
   "outputs": [
    {
     "name": "stdout",
     "output_type": "stream",
     "text": [
      "set()\n",
      "{'fr_imide', 'fr_para_hydroxylation', 'PEOE_VSA8'}\n"
     ]
    }
   ],
   "source": [
    "# new\n",
    "freesolv_3 = ['fr_Ar_NH', 'SMR_VSA5', 'SlogP_VSA2']\n",
    "freesolv_5 = ['fr_Ar_NH', 'SMR_VSA5', 'SlogP_VSA2', 'MaxEStateIndex', 'SlogP_VSA10']\n",
    "freesolv_7 = ['fr_Ar_NH', 'SMR_VSA5', 'SlogP_VSA2', 'MaxEStateIndex', 'SlogP_VSA10', 'fr_amide', 'NHOHCount']\n",
    "freesolv_10 = ['fr_Ar_NH', 'SMR_VSA5', 'SlogP_VSA2', 'MaxEStateIndex', 'SlogP_VSA10', 'fr_amide', 'NHOHCount', 'NumAromaticHeterocycles', 'TPSA', 'SMR_VSA2']\n",
    "freesolv_20 = ['fr_Ar_NH', 'SMR_VSA5', 'SlogP_VSA2', 'MaxEStateIndex', 'SlogP_VSA10', 'fr_amide', 'NHOHCount', 'NumAromaticHeterocycles', 'TPSA', 'SMR_VSA2', 'PEOE_VSA10', 'Chi2v', 'VSA_EState8', 'SlogP_VSA4', 'RingCount', 'PEOE_VSA14', 'fr_aryl_methyl', 'fr_bicyclic', 'NumSaturatedHeterocycles', 'fr_phos_ester']\n",
    "\n",
    "#29개\n",
    "freesolv_elastic = ['fr_Ar_NH', 'SMR_VSA5', 'SlogP_VSA2', 'MaxEStateIndex', 'SlogP_VSA10', 'fr_amide', 'NHOHCount', 'NumAromaticHeterocycles', 'TPSA', 'SMR_VSA2', 'PEOE_VSA10', 'Chi2v', 'VSA_EState8', 'SlogP_VSA4', 'RingCount', 'PEOE_VSA14', 'fr_aryl_methyl', 'fr_bicyclic', 'NumSaturatedHeterocycles', 'fr_phos_ester', 'fr_imidazole', 'PEOE_VSA7', 'fr_Al_COO', 'NumHeteroatoms', 'fr_Al_OH', 'PEOE_VSA2', 'fr_ketone_Topliss', 'EState_VSA6', 'fr_nitro_arom_nonortho']\n",
    "\n",
    "print(set(freesolv_elastic) - set(freesolv_sf))\n",
    "print(set(freesolv_sf) - set(freesolv_elastic))"
   ]
  },
  {
   "cell_type": "markdown",
   "metadata": {},
   "source": [
    "# hlg"
   ]
  },
  {
   "cell_type": "code",
   "execution_count": null,
   "metadata": {},
   "outputs": [],
   "source": [
    "hlg_3 = ['fr_aldehyde', 'BCUT2D_MRHI', 'BertzCT']\n",
    "hlg_5 = ['fr_aldehyde', 'BCUT2D_MRHI', 'BertzCT', 'fr_amide', 'NumAromaticRings']\n",
    "hlg_7 = ['fr_aldehyde', 'BCUT2D_MRHI', 'BertzCT', 'fr_amide', 'NumAromaticRings', 'BCUT2D_MWLOW', 'MolLogP']\n",
    "hlg_10 = ['fr_aldehyde', 'BCUT2D_MRHI', 'BertzCT', 'fr_amide', 'NumAromaticRings', 'BCUT2D_MWLOW', 'MolLogP', 'fr_imide', 'SMR_VSA7', 'fr_ketone']\n",
    "hlg_20 = ['fr_aldehyde', 'BCUT2D_MRHI', 'BertzCT', 'fr_amide', 'NumAromaticRings', 'BCUT2D_MWLOW', 'MolLogP', 'fr_imide', 'SMR_VSA7', 'fr_ketone', 'PEOE_VSA14', 'fr_ketone_Topliss', 'Ipc', 'MinEStateIndex', 'SlogP_VSA11', 'fr_ether', 'Chi4n', 'Chi1', 'SlogP_VSA6', 'fr_aniline']\n",
    "\n",
    "#54개\n",
    "hlg_elastic = ['fr_aldehyde', 'BCUT2D_MRHI', 'BertzCT', 'fr_amide', 'NumAromaticRings', 'BCUT2D_MWLOW', 'MolLogP', 'fr_imide', 'SMR_VSA7', 'fr_ketone', 'PEOE_VSA14', 'fr_ketone_Topliss', 'Ipc', 'MinEStateIndex', 'SlogP_VSA11', 'fr_ether', 'Chi4n', 'Chi1', 'SlogP_VSA6', 'fr_aniline', 'MaxEStateIndex', 'fr_Al_OH_noTert', 'BCUT2D_CHGLO', 'fr_nitrile', 'EState_VSA4', 'NumSaturatedRings', 'FpDensityMorgan2', 'PEOE_VSA4', 'EState_VSA8', 'PEOE_VSA3', 'PEOE_VSA5', 'fr_NH0', 'PEOE_VSA7', 'VSA_EState6', 'fr_Al_COO', 'BalabanJ', 'qed', 'VSA_EState4', 'PEOE_VSA2', 'SMR_VSA4', 'MinAbsPartialCharge', 'MolMR', 'PEOE_VSA6', 'SlogP_VSA4', 'TPSA', 'EState_VSA6', 'Chi3n', 'PEOE_VSA1', 'fr_oxime', 'NumRotatableBonds', 'NumAliphaticCarbocycles', 'EState_VSA3', 'EState_VSA9', 'fr_NH1']\n"
   ]
  },
  {
   "cell_type": "markdown",
   "metadata": {},
   "source": [
    "# lipo"
   ]
  },
  {
   "cell_type": "code",
   "execution_count": null,
   "metadata": {},
   "outputs": [],
   "source": [
    "lipo_3 = ['fr_COO', 'MolLogP', 'NumAromaticHeterocycles']\n",
    "lipo_5 = ['fr_COO', 'MolLogP', 'NumAromaticHeterocycles', 'SMR_VSA1', 'FpDensityMorgan1']\n",
    "lipo_7 = ['fr_COO', 'MolLogP', 'NumAromaticHeterocycles', 'SMR_VSA1', 'FpDensityMorgan1', 'NumHAcceptors', 'fr_NH1']\n",
    "lipo_10 = ['fr_COO', 'MolLogP', 'NumAromaticHeterocycles', 'SMR_VSA1', 'FpDensityMorgan1', 'NumHAcceptors', 'fr_NH1', 'FpDensityMorgan3', 'Chi4v', 'SMR_VSA10']\n",
    "lipo_20 = ['fr_COO', 'MolLogP', 'NumAromaticHeterocycles', 'SMR_VSA1', 'FpDensityMorgan1', 'NumHAcceptors', 'fr_NH1', 'FpDensityMorgan3', 'Chi4v', 'SMR_VSA10', 'PEOE_VSA6', 'VSA_EState5', 'SlogP_VSA10', 'PEOE_VSA13', 'fr_pyridine', 'NumSaturatedCarbocycles', 'VSA_EState2', 'MaxEStateIndex', 'qed', 'MinAbsEStateIndex']\n",
    "\n",
    "lipo_elastic = []"
   ]
  },
  {
   "cell_type": "markdown",
   "metadata": {},
   "source": [
    "# qm7"
   ]
  },
  {
   "cell_type": "markdown",
   "metadata": {},
   "source": []
  },
  {
   "cell_type": "markdown",
   "metadata": {},
   "source": [
    "# qm8_e1"
   ]
  },
  {
   "cell_type": "code",
   "execution_count": null,
   "metadata": {},
   "outputs": [],
   "source": []
  },
  {
   "cell_type": "markdown",
   "metadata": {},
   "source": [
    "# qm8_f1"
   ]
  },
  {
   "cell_type": "code",
   "execution_count": null,
   "metadata": {},
   "outputs": [],
   "source": []
  },
  {
   "cell_type": "markdown",
   "metadata": {},
   "source": [
    "# qm9_hc"
   ]
  },
  {
   "cell_type": "code",
   "execution_count": null,
   "metadata": {},
   "outputs": [],
   "source": [
    "변수 3개:  ['Chi0n', 'Chi0', 'Kappa1'] \n",
    "\n",
    "변수 5개:  ['Chi0n', 'Chi0', 'Kappa1', 'RingCount', 'Chi4n'] \n",
    "\n",
    "변수 7개:  ['Chi0n', 'Chi0', 'Kappa1', 'RingCount', 'Chi4n', 'NHOHCount', 'SMR_VSA7'] \n",
    "\n",
    "변수 10개:  ['Chi0n', 'Chi0', 'Kappa1', 'RingCount', 'Chi4n', 'NHOHCount', 'SMR_VSA7', 'FractionCSP3', 'NumSaturatedCarbocycles', 'Chi1'] \n",
    "\n",
    "변수 20개:  ['Chi0n', 'Chi0', 'Kappa1', 'RingCount', 'Chi4n', 'NHOHCount', 'SMR_VSA7', 'FractionCSP3', 'NumSaturatedCarbocycles', 'Chi1', 'BertzCT', 'fr_Al_OH', 'BalabanJ', 'BCUT2D_CHGHI', 'BCUT2D_LOGPLOW', 'Chi2n', 'VSA_EState7', 'NumRotatableBonds', 'BCUT2D_LOGPHI', 'fr_NH1'] \n"
   ]
  },
  {
   "cell_type": "markdown",
   "metadata": {},
   "source": [
    "# qm9_hlg"
   ]
  },
  {
   "cell_type": "code",
   "execution_count": null,
   "metadata": {},
   "outputs": [],
   "source": [
    "CRC 진행중1"
   ]
  },
  {
   "cell_type": "markdown",
   "metadata": {},
   "source": [
    "# qm9_ip"
   ]
  },
  {
   "cell_type": "code",
   "execution_count": null,
   "metadata": {},
   "outputs": [],
   "source": [
    "집"
   ]
  },
  {
   "cell_type": "markdown",
   "metadata": {},
   "source": [
    "# qm9_potential"
   ]
  },
  {
   "cell_type": "code",
   "execution_count": null,
   "metadata": {},
   "outputs": [
    {
     "name": "stdout",
     "output_type": "stream",
     "text": [
      "{'NumRotatableBonds', 'fr_lactone', 'fr_quatN', 'fr_Nhpyrrole', 'fr_nitro', 'SlogP_VSA8', 'MinAbsPartialCharge', 'fr_aryl_methyl', 'PEOE_VSA2', 'fr_term_acetylene'}\n",
      "set()\n"
     ]
    },
    {
     "ename": "",
     "evalue": "",
     "output_type": "error",
     "traceback": [
      "\u001b[1;31mThe Kernel crashed while executing code in the current cell or a previous cell. \n",
      "\u001b[1;31mPlease review the code in the cell(s) to identify a possible cause of the failure. \n",
      "\u001b[1;31mClick <a href='https://aka.ms/vscodeJupyterKernelCrash'>here</a> for more info. \n",
      "\u001b[1;31mView Jupyter <a href='command:jupyter.viewOutput'>log</a> for further details."
     ]
    }
   ],
   "source": [
    "qm9_potential_3 = ['HeavyAtomMolWt', 'LabuteASA', 'NumValenceElectrons'] \n",
    "qm9_potential_5 = ['HeavyAtomMolWt', 'LabuteASA', 'NumValenceElectrons', 'fr_NH0', 'Kappa1'] \n",
    "qm9_potential_7 = ['HeavyAtomMolWt', 'LabuteASA', 'NumValenceElectrons', 'fr_NH0', 'Kappa1', 'fr_NH1', 'BertzCT'] \n",
    "qm9_potential_10 = ['HeavyAtomMolWt', 'LabuteASA', 'NumValenceElectrons', 'fr_NH0', 'Kappa1', 'fr_NH1', 'BertzCT', 'fr_NH2', 'VSA_EState8', 'SMR_VSA7'] \n",
    "qm9_potential_20 = ['HeavyAtomMolWt', 'LabuteASA', 'NumValenceElectrons', 'fr_NH0', 'Kappa1', 'fr_NH1', 'BertzCT', 'fr_NH2', 'VSA_EState8', 'SMR_VSA7', 'Chi4n', 'fr_ether', 'VSA_EState9', 'BalabanJ', 'SMR_VSA4', 'fr_C_O', 'fr_halogen', 'VSA_EState1', 'FpDensityMorgan2', 'fr_amide'] \n",
    "\n",
    "# 30개\n",
    "qm9_potential_elastic = ['LabuteASA', 'HeavyAtomMolWt', 'fr_NH1', 'fr_NH2', 'fr_NH0', 'MinAbsPartialCharge', 'fr_halogen', 'fr_quatN', 'NumValenceElectrons', 'FpDensityMorgan2', 'Chi4n', 'Kappa1', 'fr_ether', 'VSA_EState9', 'fr_C_O', 'fr_Nhpyrrole', 'fr_amide', 'VSA_EState8', 'BalabanJ', 'fr_term_acetylene', 'SlogP_VSA8', 'SMR_VSA7', 'VSA_EState1', 'SMR_VSA4', 'BertzCT', 'fr_nitro', 'PEOE_VSA2', 'fr_aryl_methyl', 'NumRotatableBonds', 'fr_lactone']\n",
    "\n",
    "print(set(qm9_potential_elastic) - set(qm9_potential_20))\n",
    "print(set(qm9_potential_20) - set(qm9_potential_elastic))"
   ]
  }
 ],
 "metadata": {
  "kernelspec": {
   "display_name": "egcn",
   "language": "python",
   "name": "python3"
  },
  "language_info": {
   "codemirror_mode": {
    "name": "ipython",
    "version": 3
   },
   "file_extension": ".py",
   "mimetype": "text/x-python",
   "name": "python",
   "nbconvert_exporter": "python",
   "pygments_lexer": "ipython3",
   "version": "3.8.20"
  }
 },
 "nbformat": 4,
 "nbformat_minor": 2
}
