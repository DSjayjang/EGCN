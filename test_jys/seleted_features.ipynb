{
 "cells": [
  {
   "cell_type": "markdown",
   "metadata": {},
   "source": [
    "# esol"
   ]
  },
  {
   "cell_type": "code",
   "execution_count": 5,
   "metadata": {},
   "outputs": [
    {
     "name": "stdout",
     "output_type": "stream",
     "text": [
      "{'fr_ester', 'SlogP_VSA10'}\n",
      "{'PEOE_VSA8', 'fr_barbitur', 'fr_alkyl_halide', 'PEOE_VSA13', 'NumSaturatedRings'}\n"
     ]
    }
   ],
   "source": [
    "esol_3 = ['MolLogP', 'SMR_VSA10', 'MaxEStateIndex'] \n",
    "esol_5 = ['MolLogP', 'SMR_VSA10', 'MaxEStateIndex', 'MaxAbsPartialCharge', 'BCUT2D_CHGHI'] \n",
    "esol_7 = ['MolLogP', 'SMR_VSA10', 'MaxEStateIndex', 'MaxAbsPartialCharge', 'BCUT2D_CHGHI', 'BCUT2D_MWLOW', 'fr_imide'] \n",
    "esol_10 = ['MolLogP', 'SMR_VSA10', 'MaxEStateIndex', 'MaxAbsPartialCharge', 'BCUT2D_CHGHI', 'BCUT2D_MWLOW', 'fr_imide', 'Kappa2', 'MinAbsPartialCharge', 'NumAromaticHeterocycles'] \n",
    "esol_20 = ['MolLogP', 'SMR_VSA10', 'MaxEStateIndex', 'MaxAbsPartialCharge', 'BCUT2D_CHGHI', 'BCUT2D_MWLOW', 'fr_imide', 'Kappa2', 'MinAbsPartialCharge', 'NumAromaticHeterocycles', 'SlogP_VSA1', 'fr_amide', 'BalabanJ', 'fr_Ar_NH', 'PEOE_VSA8', 'NumSaturatedRings', 'fr_NH0', 'PEOE_VSA13', 'fr_barbitur', 'fr_alkyl_halide']\n",
    "esol_elastic = ['MaxEStateIndex', 'MaxAbsPartialCharge', 'MinAbsPartialCharge','BCUT2D_MWLOW', 'BCUT2D_CHGHI', 'BalabanJ', 'Kappa2', 'SMR_VSA10', 'SlogP_VSA1', 'SlogP_VSA10', 'NumAromaticHeterocycles', 'MolLogP', 'fr_Ar_NH', 'fr_NH0', 'fr_amide', 'fr_ester', 'fr_imide']\n",
    "\n",
    "print(set(esol_elastic) - set(esol_20))\n",
    "print(set(esol_20) - set(esol_elastic))"
   ]
  },
  {
   "cell_type": "markdown",
   "metadata": {},
   "source": [
    "# logvp"
   ]
  },
  {
   "cell_type": "code",
   "execution_count": null,
   "metadata": {},
   "outputs": [
    {
     "name": "stdout",
     "output_type": "stream",
     "text": [
      "set()\n",
      "{'fr_azo', 'RingCount', 'fr_COO', 'VSA_EState8', 'SlogP_VSA1', 'EState_VSA9', 'PEOE_VSA11', 'VSA_EState9', 'SlogP_VSA8'}\n"
     ]
    }
   ],
   "source": [
    "logvp_3 = ['Chi1', 'TPSA', 'SMR_VSA10'] \n",
    "logvp_5 = ['Chi1', 'TPSA', 'SMR_VSA10', 'NumHDonors', 'fr_ether'] \n",
    "logvp_7 = ['Chi1', 'TPSA', 'SMR_VSA10', 'NumHDonors', 'fr_ether', 'EState_VSA1', 'NumAliphaticHeterocycles'] \n",
    "logvp_10 = ['Chi1', 'TPSA', 'SMR_VSA10', 'NumHDonors', 'fr_ether', 'EState_VSA1', 'NumAliphaticHeterocycles', 'EState_VSA5', 'SlogP_VSA10', 'MinAbsEStateIndex'] \n",
    "logvp_20 = ['Chi1', 'TPSA', 'SMR_VSA10', 'NumHDonors', 'fr_ether', 'EState_VSA1', 'NumAliphaticHeterocycles', 'EState_VSA5', 'SlogP_VSA10', 'MinAbsEStateIndex', 'NumHAcceptors', 'fr_COO', 'SlogP_VSA8', 'SlogP_VSA1', 'VSA_EState9', 'fr_azo', 'EState_VSA9', 'RingCount', 'PEOE_VSA11', 'VSA_EState8'] \n",
    "logvp_elastic = ['Chi1', 'TPSA', 'SMR_VSA10', 'NumHDonors', 'EState_VSA1', 'fr_ether', 'MinAbsEStateIndex', 'SlogP_VSA10', 'EState_VSA5', 'NumAliphaticHeterocycles', 'NumHAcceptors']\n",
    "# 11개\n",
    "\n",
    "print(set(logvp_elastic) - set(logvp_20))\n",
    "print(set(logvp_20) - set(logvp_elastic))"
   ]
  }
 ],
 "metadata": {
  "kernelspec": {
   "display_name": "ys3",
   "language": "python",
   "name": "python3"
  },
  "language_info": {
   "codemirror_mode": {
    "name": "ipython",
    "version": 3
   },
   "file_extension": ".py",
   "mimetype": "text/x-python",
   "name": "python",
   "nbconvert_exporter": "python",
   "pygments_lexer": "ipython3",
   "version": "3.8.20"
  }
 },
 "nbformat": 4,
 "nbformat_minor": 2
}
