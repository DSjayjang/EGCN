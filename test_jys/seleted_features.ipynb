{
 "cells": [
  {
   "cell_type": "markdown",
   "metadata": {},
   "source": [
    "# esol"
   ]
  },
  {
   "cell_type": "code",
   "execution_count": 5,
   "metadata": {},
   "outputs": [
    {
     "name": "stdout",
     "output_type": "stream",
     "text": [
      "{'fr_ester', 'SlogP_VSA10'}\n",
      "{'PEOE_VSA8', 'fr_barbitur', 'fr_alkyl_halide', 'PEOE_VSA13', 'NumSaturatedRings'}\n"
     ]
    }
   ],
   "source": [
    "esol_3 = ['MolLogP', 'SMR_VSA10', 'MaxEStateIndex'] \n",
    "esol_5 = ['MolLogP', 'SMR_VSA10', 'MaxEStateIndex', 'MaxAbsPartialCharge', 'BCUT2D_CHGHI'] \n",
    "esol_7 = ['MolLogP', 'SMR_VSA10', 'MaxEStateIndex', 'MaxAbsPartialCharge', 'BCUT2D_CHGHI', 'BCUT2D_MWLOW', 'fr_imide'] \n",
    "esol_10 = ['MolLogP', 'SMR_VSA10', 'MaxEStateIndex', 'MaxAbsPartialCharge', 'BCUT2D_CHGHI', 'BCUT2D_MWLOW', 'fr_imide', 'Kappa2', 'MinAbsPartialCharge', 'NumAromaticHeterocycles'] \n",
    "esol_20 = ['MolLogP', 'SMR_VSA10', 'MaxEStateIndex', 'MaxAbsPartialCharge', 'BCUT2D_CHGHI', 'BCUT2D_MWLOW', 'fr_imide', 'Kappa2', 'MinAbsPartialCharge', 'NumAromaticHeterocycles', 'SlogP_VSA1', 'fr_amide', 'BalabanJ', 'fr_Ar_NH', 'PEOE_VSA8', 'NumSaturatedRings', 'fr_NH0', 'PEOE_VSA13', 'fr_barbitur', 'fr_alkyl_halide']\n",
    "esol_elastic = ['MaxEStateIndex', 'MaxAbsPartialCharge', 'MinAbsPartialCharge','BCUT2D_MWLOW', 'BCUT2D_CHGHI', 'BalabanJ', 'Kappa2', 'SMR_VSA10', 'SlogP_VSA1', 'SlogP_VSA10', 'NumAromaticHeterocycles', 'MolLogP', 'fr_Ar_NH', 'fr_NH0', 'fr_amide', 'fr_ester', 'fr_imide']\n",
    "\n",
    "print(set(esol_elastic) - set(esol_20))\n",
    "print(set(esol_20) - set(esol_elastic))"
   ]
  },
  {
   "cell_type": "markdown",
   "metadata": {},
   "source": [
    "# logvp"
   ]
  },
  {
   "cell_type": "code",
   "execution_count": null,
   "metadata": {},
   "outputs": [
    {
     "name": "stdout",
     "output_type": "stream",
     "text": [
      "set()\n",
      "{'fr_azo', 'RingCount', 'fr_COO', 'VSA_EState8', 'SlogP_VSA1', 'EState_VSA9', 'PEOE_VSA11', 'VSA_EState9', 'SlogP_VSA8'}\n"
     ]
    }
   ],
   "source": [
    "logvp_3 = ['Chi1', 'TPSA', 'SMR_VSA10'] \n",
    "logvp_5 = ['Chi1', 'TPSA', 'SMR_VSA10', 'NumHDonors', 'fr_ether'] \n",
    "logvp_7 = ['Chi1', 'TPSA', 'SMR_VSA10', 'NumHDonors', 'fr_ether', 'EState_VSA1', 'NumAliphaticHeterocycles'] \n",
    "logvp_10 = ['Chi1', 'TPSA', 'SMR_VSA10', 'NumHDonors', 'fr_ether', 'EState_VSA1', 'NumAliphaticHeterocycles', 'EState_VSA5', 'SlogP_VSA10', 'MinAbsEStateIndex'] \n",
    "logvp_20 = ['Chi1', 'TPSA', 'SMR_VSA10', 'NumHDonors', 'fr_ether', 'EState_VSA1', 'NumAliphaticHeterocycles', 'EState_VSA5', 'SlogP_VSA10', 'MinAbsEStateIndex', 'NumHAcceptors', 'fr_COO', 'SlogP_VSA8', 'SlogP_VSA1', 'VSA_EState9', 'fr_azo', 'EState_VSA9', 'RingCount', 'PEOE_VSA11', 'VSA_EState8'] \n",
    "logvp_elastic = ['Chi1', 'TPSA', 'SMR_VSA10', 'NumHDonors', 'EState_VSA1', 'fr_ether', 'MinAbsEStateIndex', 'SlogP_VSA10', 'EState_VSA5', 'NumAliphaticHeterocycles', 'NumHAcceptors']\n",
    "# 11개\n",
    "# 16개 ['Chi1', 'TPSA', 'SMR_VSA10', 'NumHDonors', 'EState_VSA1', 'fr_ether', 'MinAbsEStateIndex', 'SlogP_VSA10', 'EState_VSA5', 'NumAliphaticHeterocycles', 'NumHAcceptors', 'fr_amidine', 'VSA_EState9', 'EState_VSA9', 'SlogP_VSA8', 'PEOE_VSA11']\n",
    "# 38개 ['MinAbsEStateIndex', 'qed', 'FpDensityMorgan1', 'Chi1', 'Ipc',\n",
    "       'PEOE_VSA10', 'PEOE_VSA11', 'PEOE_VSA13', 'PEOE_VSA9', 'SMR_VSA10',\n",
    "       'SMR_VSA4', 'SMR_VSA5', 'SlogP_VSA1', 'SlogP_VSA10', 'SlogP_VSA4',\n",
    "       'SlogP_VSA8', 'TPSA', 'EState_VSA1', 'EState_VSA5', 'EState_VSA9',\n",
    "       'VSA_EState8', 'VSA_EState9', 'NumAliphaticHeterocycles',\n",
    "       'NumHAcceptors', 'NumHDonors', 'NumSaturatedHeterocycles',\n",
    "       'fr_Al_OH_noTert', 'fr_COO', 'fr_Nhpyrrole', 'fr_alkyl_carbamate',\n",
    "       'fr_amide', 'fr_amidine', 'fr_azo', 'fr_ether', 'fr_ketone',\n",
    "       'fr_ketone_Topliss', 'fr_lactone', 'fr_priamide']\n",
    "\n",
    "print(set(logvp_elastic) - set(logvp_20))\n",
    "print(set(logvp_20) - set(logvp_elastic))"
   ]
  },
  {
   "cell_type": "markdown",
   "metadata": {},
   "source": [
    "# freesolv"
   ]
  },
  {
   "cell_type": "code",
   "execution_count": null,
   "metadata": {},
   "outputs": [
    {
     "name": "stdout",
     "output_type": "stream",
     "text": [
      "{'fr_Al_COO', 'NumHDonors', 'MinPartialCharge', 'fr_imide'}\n",
      "{'PEOE_VSA14', 'PEOE_VSA10', 'fr_bicyclic', 'PEOE_VSA2'}\n"
     ]
    }
   ],
   "source": [
    "freesolv_3 = ['NHOHCount', 'SMR_VSA5', 'SlogP_VSA2'] \n",
    "freesolv_5 = ['NHOHCount', 'SMR_VSA5', 'SlogP_VSA2', 'TPSA', 'MaxEStateIndex'] \n",
    "freesolv_7 = ['NHOHCount', 'SMR_VSA5', 'SlogP_VSA2', 'TPSA', 'MaxEStateIndex', 'fr_Ar_NH', 'Chi2v'] \n",
    "freesolv_10 = ['NHOHCount', 'SMR_VSA5', 'SlogP_VSA2', 'TPSA', 'MaxEStateIndex', 'fr_Ar_NH', 'Chi2v', 'SlogP_VSA10', 'NumHeteroatoms', 'RingCount'] \n",
    "freesolv_20 = ['NHOHCount', 'SMR_VSA5', 'SlogP_VSA2', 'TPSA', 'MaxEStateIndex', 'fr_Ar_NH', 'Chi2v', 'SlogP_VSA10', 'NumHeteroatoms', 'RingCount', 'fr_amide', 'NumAromaticHeterocycles', 'PEOE_VSA14', 'SlogP_VSA4', 'VSA_EState8', 'PEOE_VSA2', 'PEOE_VSA10', 'fr_Al_OH', 'fr_bicyclic', 'SMR_VSA2'] \n",
    "freesolv_elastic = ['NHOHCount', 'SlogP_VSA2', 'SMR_VSA5', 'TPSA', 'MaxEStateIndex', 'fr_Ar_NH', 'NumHeteroatoms', 'SMR_VSA2', 'NumAromaticHeterocycles', 'fr_imide', 'SlogP_VSA10', 'SlogP_VSA4', 'fr_amide', 'NumHDonors', 'fr_Al_OH', 'RingCount', 'MinPartialCharge', 'VSA_EState8', 'Chi2v', 'fr_Al_COO']\n",
    "# 20개\n",
    "\n",
    "#25개 ['NHOHCount', 'SlogP_VSA2', 'SMR_VSA5', 'TPSA', 'MaxEStateIndex', 'fr_Ar_NH', 'NumHeteroatoms', 'SMR_VSA2', 'NumAromaticHeterocycles', 'fr_imide', 'SlogP_VSA10', 'SlogP_VSA4', 'fr_amide', 'NumHDonors', 'fr_Al_OH', 'RingCount', 'MinPartialCharge', 'VSA_EState8', 'Chi2v', 'fr_Al_COO', 'EState_VSA6', 'fr_aryl_methyl', 'EState_VSA8', 'PEOE_VSA10', 'fr_ketone_Topliss']\n",
    "print(set(freesolv_elastic) - set(freesolv_20))\n",
    "print(set(freesolv_20) - set(freesolv_elastic))"
   ]
  },
  {
   "cell_type": "code",
   "execution_count": null,
   "metadata": {},
   "outputs": [],
   "source": []
  }
 ],
 "metadata": {
  "kernelspec": {
   "display_name": "ys3",
   "language": "python",
   "name": "python3"
  },
  "language_info": {
   "codemirror_mode": {
    "name": "ipython",
    "version": 3
   },
   "file_extension": ".py",
   "mimetype": "text/x-python",
   "name": "python",
   "nbconvert_exporter": "python",
   "pygments_lexer": "ipython3",
   "version": "3.8.20"
  }
 },
 "nbformat": 4,
 "nbformat_minor": 2
}
