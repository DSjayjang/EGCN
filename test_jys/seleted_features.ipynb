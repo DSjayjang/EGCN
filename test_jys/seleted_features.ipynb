{
 "cells": [
  {
   "cell_type": "markdown",
   "metadata": {},
   "source": [
    "# esol"
   ]
  },
  {
   "cell_type": "code",
   "execution_count": null,
   "metadata": {},
   "outputs": [
    {
     "name": "stdout",
     "output_type": "stream",
     "text": [
      "{'fr_imidazole', 'fr_Al_OH_noTert', 'EState_VSA5', 'EState_VSA2', 'fr_ester', 'FractionCSP3', 'EState_VSA10', 'PEOE_VSA9', 'SlogP_VSA10', 'fr_para_hydroxylation', 'EState_VSA8', 'SlogP_VSA7', 'EState_VSA11', 'fr_aryl_methyl', 'fr_bicyclic', 'fr_furan', 'SMR_VSA9', 'FpDensityMorgan2', 'fr_hdrzine', 'fr_nitro_arom_nonortho', 'fr_phos_acid'}\n",
      "set()\n"
     ]
    }
   ],
   "source": [
    "esol_3 = ['MolLogP', 'SMR_VSA10', 'MaxEStateIndex'] \n",
    "esol_5 = ['MolLogP', 'SMR_VSA10', 'MaxEStateIndex', 'MaxAbsPartialCharge', 'BCUT2D_CHGHI'] \n",
    "esol_7 = ['MolLogP', 'SMR_VSA10', 'MaxEStateIndex', 'MaxAbsPartialCharge', 'BCUT2D_CHGHI', 'BCUT2D_MWLOW', 'fr_imide'] \n",
    "esol_10 = ['MolLogP', 'SMR_VSA10', 'MaxEStateIndex', 'MaxAbsPartialCharge', 'BCUT2D_CHGHI', 'BCUT2D_MWLOW', 'fr_imide', 'Kappa2', 'MinAbsPartialCharge', 'NumAromaticHeterocycles'] \n",
    "esol_20 = ['MolLogP', 'SMR_VSA10', 'MaxEStateIndex', 'MaxAbsPartialCharge', 'BCUT2D_CHGHI', 'BCUT2D_MWLOW', 'fr_imide', 'Kappa2', 'MinAbsPartialCharge', 'NumAromaticHeterocycles', 'SlogP_VSA1', 'fr_amide', 'BalabanJ', 'fr_Ar_NH', 'PEOE_VSA8', 'NumSaturatedRings', 'fr_NH0', 'PEOE_VSA13', 'fr_barbitur', 'fr_alkyl_halide']\n",
    "esol_elastic = ['MolLogP', 'BCUT2D_CHGHI', 'MaxAbsPartialCharge', 'fr_Ar_NH', 'MaxEStateIndex', 'SlogP_VSA1', 'PEOE_VSA8', 'BalabanJ', 'NumAromaticHeterocycles', 'PEOE_VSA13', 'Kappa2', 'SMR_VSA10', 'fr_phos_acid', 'EState_VSA11', 'fr_alkyl_halide', 'fr_imidazole', 'fr_hdrzine', 'FractionCSP3', 'EState_VSA5', 'fr_furan', 'MinAbsPartialCharge', 'fr_ester', 'PEOE_VSA9', 'fr_amide', 'fr_Al_OH_noTert', 'fr_imide', 'fr_aryl_methyl', 'fr_NH0', 'NumSaturatedRings', 'BCUT2D_MWLOW', 'fr_bicyclic', 'SMR_VSA9', 'EState_VSA8', 'SlogP_VSA10', 'fr_para_hydroxylation', 'FpDensityMorgan2', 'EState_VSA2', 'SlogP_VSA7', 'fr_nitro_arom_nonortho', 'EState_VSA10', 'fr_barbitur']\n",
    "\n",
    "# 41개\n",
    "print(set(esol_elastic) - set(esol_20))\n",
    "print(set(esol_20) - set(esol_elastic))"
   ]
  },
  {
   "cell_type": "markdown",
   "metadata": {},
   "source": [
    "# esol_weight"
   ]
  },
  {
   "cell_type": "code",
   "execution_count": null,
   "metadata": {},
   "outputs": [],
   "source": [
    "esol_weight_3 = ['MolWt', 'SlogP_VSA12']\n",
    "esol_weight_elastic = ['MolWt', 'SlogP_VSA12']"
   ]
  },
  {
   "cell_type": "markdown",
   "metadata": {},
   "source": [
    "# logvp"
   ]
  },
  {
   "cell_type": "code",
   "execution_count": 9,
   "metadata": {},
   "outputs": [
    {
     "name": "stdout",
     "output_type": "stream",
     "text": [
      "{'fr_alkyl_carbamate', 'fr_amide', 'fr_Nhpyrrole', 'fr_amidine', 'FpDensityMorgan1', 'PEOE_VSA10', 'qed', 'FractionCSP3', 'fr_priamide', 'NumSaturatedHeterocycles', 'fr_ketone_Topliss', 'fr_ketone', 'fr_Al_OH_noTert', 'PEOE_VSA13'}\n",
      "{'NumHAcceptors'}\n"
     ]
    }
   ],
   "source": [
    "logvp_3 = ['Chi1', 'TPSA', 'SMR_VSA10'] \n",
    "logvp_5 = ['Chi1', 'TPSA', 'SMR_VSA10', 'NumHDonors', 'fr_ether'] \n",
    "logvp_7 = ['Chi1', 'TPSA', 'SMR_VSA10', 'NumHDonors', 'fr_ether', 'EState_VSA1', 'NumAliphaticHeterocycles'] \n",
    "logvp_10 = ['Chi1', 'TPSA', 'SMR_VSA10', 'NumHDonors', 'fr_ether', 'EState_VSA1', 'NumAliphaticHeterocycles', 'EState_VSA5', 'SlogP_VSA10', 'MinAbsEStateIndex'] \n",
    "logvp_20 = ['Chi1', 'TPSA', 'SMR_VSA10', 'NumHDonors', 'fr_ether', 'EState_VSA1', 'NumAliphaticHeterocycles', 'EState_VSA5', 'SlogP_VSA10', 'MinAbsEStateIndex', 'NumHAcceptors', 'fr_COO', 'SlogP_VSA8', 'SlogP_VSA1', 'VSA_EState9', 'fr_azo', 'EState_VSA9', 'RingCount', 'PEOE_VSA11', 'VSA_EState8'] \n",
    "\n",
    "# 33개\n",
    "logvp_elastic = ['Chi1', 'FpDensityMorgan1', 'MinAbsEStateIndex', 'SMR_VSA10', 'fr_ether', 'fr_COO', 'TPSA', 'FractionCSP3', 'NumHDonors', 'SlogP_VSA1', 'NumAliphaticHeterocycles', 'VSA_EState9', 'EState_VSA1', 'fr_amide', 'fr_Nhpyrrole', 'EState_VSA9', 'fr_azo', 'fr_amidine', 'fr_Al_OH_noTert', 'PEOE_VSA10', 'SlogP_VSA8', 'PEOE_VSA13', 'qed', 'fr_ketone_Topliss', 'VSA_EState8', 'SlogP_VSA10', 'fr_alkyl_carbamate', 'PEOE_VSA11', 'fr_priamide', 'EState_VSA5', 'NumSaturatedHeterocycles', 'RingCount', 'fr_ketone']\n",
    "print(set(logvp_elastic) - set(logvp_20))\n",
    "print(set(logvp_20) - set(logvp_elastic))"
   ]
  },
  {
   "cell_type": "markdown",
   "metadata": {},
   "source": [
    "# freesolv"
   ]
  },
  {
   "cell_type": "code",
   "execution_count": 6,
   "metadata": {},
   "outputs": [
    {
     "name": "stdout",
     "output_type": "stream",
     "text": [
      "{'fr_Al_COO', 'PEOE_VSA7', 'EState_VSA6', 'fr_para_hydroxylation', 'NumSaturatedHeterocycles', 'fr_phos_ester', 'fr_imidazole', 'fr_ketone_Topliss', 'fr_aryl_methyl', 'fr_nitro_arom_nonortho', 'PEOE_VSA8', 'fr_imide'}\n",
      "set()\n"
     ]
    }
   ],
   "source": [
    "freesolv_3 = ['NHOHCount', 'SMR_VSA5', 'SlogP_VSA2'] \n",
    "freesolv_5 = ['NHOHCount', 'SMR_VSA5', 'SlogP_VSA2', 'TPSA', 'MaxEStateIndex'] \n",
    "freesolv_7 = ['NHOHCount', 'SMR_VSA5', 'SlogP_VSA2', 'TPSA', 'MaxEStateIndex', 'fr_Ar_NH', 'Chi2v'] \n",
    "freesolv_10 = ['NHOHCount', 'SMR_VSA5', 'SlogP_VSA2', 'TPSA', 'MaxEStateIndex', 'fr_Ar_NH', 'Chi2v', 'SlogP_VSA10', 'NumHeteroatoms', 'RingCount'] \n",
    "freesolv_20 = ['NHOHCount', 'SMR_VSA5', 'SlogP_VSA2', 'TPSA', 'MaxEStateIndex', 'fr_Ar_NH', 'Chi2v', 'SlogP_VSA10', 'NumHeteroatoms', 'RingCount', 'fr_amide', 'NumAromaticHeterocycles', 'PEOE_VSA14', 'SlogP_VSA4', 'VSA_EState8', 'PEOE_VSA2', 'PEOE_VSA10', 'fr_Al_OH', 'fr_bicyclic', 'SMR_VSA2'] \n",
    "freesolv_elastic = ['NHOHCount', 'SlogP_VSA2', 'SMR_VSA5', 'TPSA', 'MaxEStateIndex', 'fr_Ar_NH', 'NumHeteroatoms', 'SMR_VSA2', 'NumAromaticHeterocycles', 'fr_imide', 'SlogP_VSA10', 'SlogP_VSA4', 'fr_amide', 'NumHDonors', 'fr_Al_OH', 'RingCount', 'MinPartialCharge', 'VSA_EState8', 'Chi2v', 'fr_Al_COO']\n",
    "\n",
    "# 32개\n",
    "freesolv_elastic = ['SMR_VSA5', 'fr_Ar_NH', 'SlogP_VSA2', 'TPSA', 'MaxEStateIndex', 'fr_amide', 'NumAromaticHeterocycles',\n",
    "                     'NumHeteroatoms', 'Chi2v', 'SlogP_VSA10', 'NHOHCount', 'PEOE_VSA10', 'SMR_VSA2', 'SlogP_VSA4', 'VSA_EState8',\n",
    "                       'fr_aryl_methyl', 'fr_phos_ester', 'PEOE_VSA7', 'fr_Al_OH', 'NumSaturatedHeterocycles', 'fr_imidazole', 'fr_Al_COO',\n",
    "                         'RingCount', 'PEOE_VSA14', 'EState_VSA6', 'fr_ketone_Topliss', 'fr_bicyclic', 'PEOE_VSA2', 'fr_imide', 'fr_nitro_arom_nonortho', 'fr_para_hydroxylation', 'PEOE_VSA8']\n",
    "\n",
    "print(set(freesolv_elastic) - set(freesolv_20))\n",
    "print(set(freesolv_20) - set(freesolv_elastic))"
   ]
  },
  {
   "cell_type": "markdown",
   "metadata": {},
   "source": [
    "# lipo"
   ]
  },
  {
   "cell_type": "code",
   "execution_count": null,
   "metadata": {},
   "outputs": [],
   "source": [
    "lipo_3 = ['fr_COO', 'MolLogP', 'NumAromaticHeterocycles']\n",
    "lipo_5 = ['fr_COO', 'MolLogP', 'NumAromaticHeterocycles', 'SMR_VSA1', 'FpDensityMorgan1']\n",
    "lipo_7 = ['fr_COO', 'MolLogP', 'NumAromaticHeterocycles', 'SMR_VSA1', 'FpDensityMorgan1', 'NumHAcceptors', 'fr_NH1']\n",
    "lipo_10 = ['fr_COO', 'MolLogP', 'NumAromaticHeterocycles', 'SMR_VSA1', 'FpDensityMorgan1', 'NumHAcceptors', 'fr_NH1', 'FpDensityMorgan3', 'Chi4v', 'SMR_VSA10']\n",
    "lipo_20 = ['fr_COO', 'MolLogP', 'NumAromaticHeterocycles', 'SMR_VSA1', 'FpDensityMorgan1', 'NumHAcceptors', 'fr_NH1', 'FpDensityMorgan3', 'Chi4v', 'SMR_VSA10', 'PEOE_VSA6', 'VSA_EState5', 'SlogP_VSA10', 'PEOE_VSA13', 'fr_pyridine', 'NumSaturatedCarbocycles', 'VSA_EState2', 'MaxEStateIndex', 'qed', 'MinAbsEStateIndex']\n",
    "\n",
    "lipo_elastic = []"
   ]
  },
  {
   "cell_type": "markdown",
   "metadata": {},
   "source": [
    "# qm9_hc_reduced"
   ]
  },
  {
   "cell_type": "markdown",
   "metadata": {},
   "source": [
    "# hlg_reduced"
   ]
  }
 ],
 "metadata": {
  "kernelspec": {
   "display_name": "egcn2",
   "language": "python",
   "name": "python3"
  },
  "language_info": {
   "codemirror_mode": {
    "name": "ipython",
    "version": 3
   },
   "file_extension": ".py",
   "mimetype": "text/x-python",
   "name": "python",
   "nbconvert_exporter": "python",
   "pygments_lexer": "ipython3",
   "version": "3.8.20"
  }
 },
 "nbformat": 4,
 "nbformat_minor": 2
}
