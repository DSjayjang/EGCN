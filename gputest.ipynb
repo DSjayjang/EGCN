{
 "cells": [
  {
   "cell_type": "code",
   "execution_count": null,
   "metadata": {},
   "outputs": [],
   "source": [
    "import numpy as np"
   ]
  },
  {
   "cell_type": "code",
   "execution_count": 1,
   "metadata": {},
   "outputs": [
    {
     "name": "stdout",
     "output_type": "stream",
     "text": [
      "2.4.1+cpu\n",
      "None\n"
     ]
    }
   ],
   "source": [
    "import torch\n",
    "print(torch.__version__) # torch 버전\n",
    "print(torch.version.cuda) # cuda 버전"
   ]
  },
  {
   "cell_type": "code",
   "execution_count": 4,
   "metadata": {},
   "outputs": [
    {
     "name": "stdout",
     "output_type": "stream",
     "text": [
      "tensor([[ 0.3889,  0.0903,  0.3355,  1.4204, -1.2362],\n",
      "        [ 1.0803,  0.6316,  0.0809, -0.4822, -0.3039],\n",
      "        [ 2.7431, -0.7746, -2.1266, -0.4472,  0.8016],\n",
      "        [ 0.6726, -1.5422,  0.5993, -0.8714,  0.3406]])\n",
      "torch.Size([4, 3])\n"
     ]
    }
   ],
   "source": [
    "import torch\n",
    "import torch.nn as nn\n",
    "\n",
    "# Bilinear 계층 정의\n",
    "bilinear = nn.Bilinear(in1_features=5, in2_features=10, out_features=3)\n",
    "\n",
    "# 입력 텐서 생성\n",
    "x1 = torch.randn(4, 5)  # 첫 번째 입력 (배치 크기: 4, 특징 차원: 5)\n",
    "x2 = torch.randn(4, 10) # 두 번째 입력 (배치 크기: 4, 특징 차원: 10)\n",
    "\n",
    "# 빌리니어 연산 수행\n",
    "output = bilinear(x1, x2)\n",
    "print(x1)\n",
    "print(output.shape)  # torch.Size([4, 3])"
   ]
  },
  {
   "cell_type": "code",
   "execution_count": 5,
   "metadata": {},
   "outputs": [
    {
     "name": "stdout",
     "output_type": "stream",
     "text": [
      "Parameter containing:\n",
      "tensor([[[-0.5852,  0.2958],\n",
      "         [-0.2399, -0.6740]]], requires_grad=True)\n"
     ]
    }
   ],
   "source": [
    "B = nn.Bilinear(2, 2, 1)\n",
    "print(B.weight)"
   ]
  },
  {
   "cell_type": "code",
   "execution_count": 7,
   "metadata": {},
   "outputs": [
    {
     "name": "stdout",
     "output_type": "stream",
     "text": [
      "tensor([0.5216], grad_fn=<AddBackward0>)\n",
      "tensor([0.5216], grad_fn=<AddBackward0>)\n"
     ]
    }
   ],
   "source": [
    "print(B(torch.ones(2), torch.zeros(2)))\n",
    "print(B(torch.zeros(2), torch.ones(2)))"
   ]
  },
  {
   "cell_type": "code",
   "execution_count": 14,
   "metadata": {},
   "outputs": [
    {
     "name": "stdout",
     "output_type": "stream",
     "text": [
      "Parameter containing:\n",
      "tensor([[[-0.3297, -0.3921],\n",
      "         [ 0.0159,  0.2201]]], requires_grad=True)\n",
      "['T_destination', '__annotations__', '__call__', '__class__', '__constants__', '__delattr__', '__dict__', '__dir__', '__doc__', '__eq__', '__format__', '__ge__', '__getattr__', '__getattribute__', '__getstate__', '__gt__', '__hash__', '__init__', '__init_subclass__', '__le__', '__lt__', '__module__', '__ne__', '__new__', '__reduce__', '__reduce_ex__', '__repr__', '__setattr__', '__setstate__', '__sizeof__', '__str__', '__subclasshook__', '__weakref__', '_apply', '_backward_hooks', '_backward_pre_hooks', '_buffers', '_call_impl', '_compiled_call_impl', '_forward_hooks', '_forward_hooks_always_called', '_forward_hooks_with_kwargs', '_forward_pre_hooks', '_forward_pre_hooks_with_kwargs', '_get_backward_hooks', '_get_backward_pre_hooks', '_get_name', '_is_full_backward_hook', '_load_from_state_dict', '_load_state_dict_post_hooks', '_load_state_dict_pre_hooks', '_maybe_warn_non_full_backward_hook', '_modules', '_named_members', '_non_persistent_buffers_set', '_parameters', '_register_load_state_dict_pre_hook', '_register_state_dict_hook', '_replicate_for_data_parallel', '_save_to_state_dict', '_slow_forward', '_state_dict_hooks', '_state_dict_pre_hooks', '_version', '_wrapped_call_impl', 'add_module', 'apply', 'bfloat16', 'bias', 'buffers', 'call_super_init', 'children', 'compile', 'cpu', 'cuda', 'double', 'dump_patches', 'eval', 'extra_repr', 'float', 'forward', 'get_buffer', 'get_extra_state', 'get_parameter', 'get_submodule', 'half', 'in1_features', 'in2_features', 'ipu', 'load_state_dict', 'modules', 'named_buffers', 'named_children', 'named_modules', 'named_parameters', 'out_features', 'parameters', 'register_backward_hook', 'register_buffer', 'register_forward_hook', 'register_forward_pre_hook', 'register_full_backward_hook', 'register_full_backward_pre_hook', 'register_load_state_dict_post_hook', 'register_module', 'register_parameter', 'register_state_dict_pre_hook', 'requires_grad_', 'reset_parameters', 'set_extra_state', 'share_memory', 'state_dict', 'to', 'to_empty', 'train', 'training', 'type', 'weight', 'xpu', 'zero_grad']\n"
     ]
    }
   ],
   "source": [
    "B = nn.Bilinear(2, 2, 1, bias=False)\n",
    "A = B.weight\n",
    "print(A)\n",
    "print(dir(B))\n",
    "# None"
   ]
  },
  {
   "cell_type": "code",
   "execution_count": 26,
   "metadata": {},
   "outputs": [
    {
     "data": {
      "text/plain": [
       "tensor([[0.],\n",
       "        [0.],\n",
       "        [0.]])"
      ]
     },
     "execution_count": 26,
     "metadata": {},
     "output_type": "execute_result"
    }
   ],
   "source": [
    "b = torch.zeros((3,1))\n",
    "b"
   ]
  },
  {
   "cell_type": "code",
   "execution_count": null,
   "metadata": {},
   "outputs": [],
   "source": [
    "\n",
    "b = torch.zeros(1)\n",
    "\n",
    "print(B(x_ones, x_zeros))\n",
    "# > tensor([0.], grad_fn=<ThAddBackward>)\n",
    "print(manual_bilinear(x_ones.view(1, 2), x_zeros.view(2, 1), A.squeeze(), b))\n",
    "# > tensor([0.], grad_fn=<ThAddBackward>)\n",
    "\n",
    "print(B(x_ones, x_ones))\n",
    "# > tensor([-0.7897], grad_fn=<ThAddBackward>)\n",
    "print(manual_bilinear(x_ones.view(1, 2), x_ones.view(2, 1), A.squeeze(), b))\n",
    "# > tensor([[-0.7897]], grad_fn=<ThAddBackward>)"
   ]
  },
  {
   "cell_type": "code",
   "execution_count": 1,
   "metadata": {},
   "outputs": [
    {
     "name": "stdout",
     "output_type": "stream",
     "text": [
      "cpu\n"
     ]
    }
   ],
   "source": [
    "import torch\n",
    "device = torch.device('cuda' if torch.cuda.is_available() else 'cpu')\n",
    "print(device)"
   ]
  },
  {
   "cell_type": "code",
   "execution_count": 2,
   "metadata": {},
   "outputs": [
    {
     "name": "stdout",
     "output_type": "stream",
     "text": [
      "2.4.1+cu121\n",
      "12.1\n"
     ]
    }
   ],
   "source": [
    "print(torch.__version__) # torch 버전\n",
    "print(torch.version.cuda) # cuda 버전"
   ]
  },
  {
   "cell_type": "code",
   "execution_count": 5,
   "metadata": {},
   "outputs": [
    {
     "data": {
      "text/plain": [
       "{'HeavyAtomCount'}"
      ]
     },
     "execution_count": 5,
     "metadata": {},
     "output_type": "execute_result"
    }
   ],
   "source": [
    "esol = ['MinEStateIndex', 'MinPartialCharge', 'MinAbsPartialCharge', 'FpDensityMorgan1', 'FpDensityMorgan2',\n",
    "        'FpDensityMorgan3', 'BCUT2D_CHGHI', 'SMR_VSA5', 'SlogP_VSA2', 'SlogP_VSA5', 'SlogP_VSA6', 'SlogP_VSA8',\n",
    "        'EState_VSA9', 'VSA_EState7', 'HeavyAtomCount', 'NumAromaticHeterocycles', 'NumHAcceptors', 'RingCount',\n",
    "        'MolMR', 'fr_C_O_noCOO']\n",
    "logvp = ['qed', 'MolWt', 'Kappa2', 'PEOE_VSA12', 'SlogP_VSA1', 'TPSA', 'EState_VSA1', 'EState_VSA10', 'VSA_EState1',\n",
    "         'VSA_EState6', 'VSA_EState8', 'HeavyAtomCount', 'NumAliphaticRings', 'NumSaturatedRings', 'fr_Ar_NH',\n",
    "         'fr_COO2', 'fr_azo', 'fr_benzene', 'fr_methoxy', 'fr_pyridine']\n",
    "\n",
    "set(esol) & set(logvp)"
   ]
  },
  {
   "cell_type": "code",
   "execution_count": 1,
   "metadata": {},
   "outputs": [
    {
     "data": {
      "text/plain": [
       "{'BCUT2D_CHGHI',\n",
       " 'EState_VSA9',\n",
       " 'FpDensityMorgan2',\n",
       " 'MinAbsPartialCharge',\n",
       " 'MinEStateIndex',\n",
       " 'NumAromaticHeterocycles',\n",
       " 'SlogP_VSA5',\n",
       " 'SlogP_VSA8',\n",
       " 'VSA_EState7',\n",
       " 'fr_C_O_noCOO'}"
      ]
     },
     "execution_count": 1,
     "metadata": {},
     "output_type": "execute_result"
    }
   ],
   "source": [
    "a = ['MinPartialCharge', 'FpDensityMorgan1', 'FpDensityMorgan3', 'SMR_VSA5', 'SlogP_VSA2', 'SlogP_VSA6', 'HeavyAtomCount', 'NumHAcceptors', 'RingCount', 'MolMR']\n",
    "b = ['MinEStateIndex', 'MinPartialCharge', 'MinAbsPartialCharge', 'FpDensityMorgan1', 'FpDensityMorgan2', 'FpDensityMorgan3', 'BCUT2D_CHGHI', 'SMR_VSA5', 'SlogP_VSA2', 'SlogP_VSA5', 'SlogP_VSA6', 'SlogP_VSA8', 'EState_VSA9', 'VSA_EState7', 'HeavyAtomCount', 'NumAromaticHeterocycles', 'NumHAcceptors', 'RingCount', 'MolMR', 'fr_C_O_noCOO']\n",
    "set(b) - set(a)"
   ]
  },
  {
   "cell_type": "code",
   "execution_count": null,
   "metadata": {},
   "outputs": [
    {
     "name": "stdout",
     "output_type": "stream",
     "text": [
      "{'fr_benzene', 'VSA_EState8'} \n",
      "\n",
      "{'VSA_EState6', 'VSA_EState1'} \n",
      "\n",
      "{'fr_COO2', 'MolWt', 'EState_VSA1'} \n",
      "\n",
      "{'fr_pyridine', 'PEOE_VSA12', 'qed', 'fr_methoxy', 'fr_azo', 'SlogP_VSA1', 'NumSaturatedRings', 'fr_Ar_NH', 'Kappa2', 'NumAliphaticRings'}\n"
     ]
    }
   ],
   "source": [
    "# logvp\n",
    "a_3 = ['TPSA', 'EState_VSA10', 'HeavyAtomCount']\n",
    "a_5 = ['TPSA', 'EState_VSA10', 'VSA_EState8', 'HeavyAtomCount', 'fr_benzene']\n",
    "\n",
    "a_7 = ['TPSA', 'EState_VSA10', 'VSA_EState1', 'VSA_EState6', 'VSA_EState8', 'HeavyAtomCount', 'fr_benzene']\n",
    "a_10 = ['MolWt', 'TPSA', 'EState_VSA1', 'EState_VSA10', 'VSA_EState1', 'VSA_EState6', 'VSA_EState8', 'HeavyAtomCount', 'fr_COO2', 'fr_benzene']\n",
    "a_20 = ['qed', 'MolWt', 'Kappa2', 'PEOE_VSA12', 'SlogP_VSA1', 'TPSA', 'EState_VSA1', 'EState_VSA10', 'VSA_EState1', 'VSA_EState6', 'VSA_EState8', 'HeavyAtomCount', 'NumAliphaticRings', 'NumSaturatedRings', 'fr_Ar_NH', 'fr_COO2', 'fr_azo', 'fr_benzene', 'fr_methoxy', 'fr_pyridine']\n",
    "\n",
    "print(set(a_5) - set(a_3), '\\n')\n",
    "print(set(a_7) - set(a_5), '\\n')\n",
    "print(set(a_10) - set(a_7), '\\n')\n",
    "print(set(a_20) - set(a_10))\n"
   ]
  },
  {
   "cell_type": "code",
   "execution_count": 2,
   "metadata": {},
   "outputs": [
    {
     "data": {
      "text/html": [
       "<div>\n",
       "<style scoped>\n",
       "    .dataframe tbody tr th:only-of-type {\n",
       "        vertical-align: middle;\n",
       "    }\n",
       "\n",
       "    .dataframe tbody tr th {\n",
       "        vertical-align: top;\n",
       "    }\n",
       "\n",
       "    .dataframe thead th {\n",
       "        text-align: right;\n",
       "    }\n",
       "</style>\n",
       "<table border=\"1\" class=\"dataframe\">\n",
       "  <thead>\n",
       "    <tr style=\"text-align: right;\">\n",
       "      <th></th>\n",
       "      <th>smiles</th>\n",
       "      <th>u0_atom</th>\n",
       "    </tr>\n",
       "  </thead>\n",
       "  <tbody>\n",
       "    <tr>\n",
       "      <th>0</th>\n",
       "      <td>C([H])([H])([H])[H]</td>\n",
       "      <td>5.055745</td>\n",
       "    </tr>\n",
       "    <tr>\n",
       "      <th>1</th>\n",
       "      <td>[H]C([H])([H])C([H])([H])[H]</td>\n",
       "      <td>3.734646</td>\n",
       "    </tr>\n",
       "    <tr>\n",
       "      <th>2</th>\n",
       "      <td>[H]C([H])=C([H])[H]</td>\n",
       "      <td>4.399592</td>\n",
       "    </tr>\n",
       "    <tr>\n",
       "      <th>3</th>\n",
       "      <td>[H]C#C[H]</td>\n",
       "      <td>5.114429</td>\n",
       "    </tr>\n",
       "    <tr>\n",
       "      <th>4</th>\n",
       "      <td>[H]OC([H])([H])C([H])([H])[H]</td>\n",
       "      <td>3.301922</td>\n",
       "    </tr>\n",
       "    <tr>\n",
       "      <th>...</th>\n",
       "      <td>...</td>\n",
       "      <td>...</td>\n",
       "    </tr>\n",
       "    <tr>\n",
       "      <th>6825</th>\n",
       "      <td>[H]C(=C(C#N)C([H])([H])[H])C([H])([H])C([H])([...</td>\n",
       "      <td>-1.681114</td>\n",
       "    </tr>\n",
       "    <tr>\n",
       "      <th>6826</th>\n",
       "      <td>[H]C(=C([H])C([H])(N([H])[H])C([H])([H])[H])C(...</td>\n",
       "      <td>-0.506051</td>\n",
       "    </tr>\n",
       "    <tr>\n",
       "      <th>6827</th>\n",
       "      <td>[H]C(=C([H])C([H])([H])C([H])([H])[H])C([H])([...</td>\n",
       "      <td>-0.526106</td>\n",
       "    </tr>\n",
       "    <tr>\n",
       "      <th>6828</th>\n",
       "      <td>[H]C([H])=C(C([H])([H])C([H])([H])[H])C([H])([...</td>\n",
       "      <td>-1.064084</td>\n",
       "    </tr>\n",
       "    <tr>\n",
       "      <th>6829</th>\n",
       "      <td>[H]C([H])=C(C([H])([H])C([H])([H])[H])C([H])(N...</td>\n",
       "      <td>-1.678692</td>\n",
       "    </tr>\n",
       "  </tbody>\n",
       "</table>\n",
       "<p>6830 rows × 2 columns</p>\n",
       "</div>"
      ],
      "text/plain": [
       "                                                 smiles   u0_atom\n",
       "0                                   C([H])([H])([H])[H]  5.055745\n",
       "1                          [H]C([H])([H])C([H])([H])[H]  3.734646\n",
       "2                                   [H]C([H])=C([H])[H]  4.399592\n",
       "3                                             [H]C#C[H]  5.114429\n",
       "4                         [H]OC([H])([H])C([H])([H])[H]  3.301922\n",
       "...                                                 ...       ...\n",
       "6825  [H]C(=C(C#N)C([H])([H])[H])C([H])([H])C([H])([... -1.681114\n",
       "6826  [H]C(=C([H])C([H])(N([H])[H])C([H])([H])[H])C(... -0.506051\n",
       "6827  [H]C(=C([H])C([H])([H])C([H])([H])[H])C([H])([... -0.526106\n",
       "6828  [H]C([H])=C(C([H])([H])C([H])([H])[H])C([H])([... -1.064084\n",
       "6829  [H]C([H])=C(C([H])([H])C([H])([H])[H])C([H])(N... -1.678692\n",
       "\n",
       "[6830 rows x 2 columns]"
      ]
     },
     "execution_count": 2,
     "metadata": {},
     "output_type": "execute_result"
    }
   ],
   "source": [
    "import pandas as pd\n",
    "import numpy as np\n",
    "qm7 = pd.read_csv('C:\\Programming\\Github\\EGCN\\data\\qm7.csv')\n",
    "qm7"
   ]
  },
  {
   "cell_type": "code",
   "execution_count": 19,
   "metadata": {},
   "outputs": [
    {
     "data": {
      "text/html": [
       "<div>\n",
       "<style scoped>\n",
       "    .dataframe tbody tr th:only-of-type {\n",
       "        vertical-align: middle;\n",
       "    }\n",
       "\n",
       "    .dataframe tbody tr th {\n",
       "        vertical-align: top;\n",
       "    }\n",
       "\n",
       "    .dataframe thead th {\n",
       "        text-align: right;\n",
       "    }\n",
       "</style>\n",
       "<table border=\"1\" class=\"dataframe\">\n",
       "  <thead>\n",
       "    <tr style=\"text-align: right;\">\n",
       "      <th></th>\n",
       "      <th>smiles</th>\n",
       "      <th>u0_atom</th>\n",
       "    </tr>\n",
       "  </thead>\n",
       "  <tbody>\n",
       "    <tr>\n",
       "      <th>0</th>\n",
       "      <td>[H]OC([H])([H])C([H])([H])C([H])([H])N([H])C([...</td>\n",
       "      <td>-0.088626</td>\n",
       "    </tr>\n",
       "    <tr>\n",
       "      <th>1</th>\n",
       "      <td>[H]C([H])([H])N(C([H])([H])[H])C1([H])C([H])([...</td>\n",
       "      <td>-0.291058</td>\n",
       "    </tr>\n",
       "    <tr>\n",
       "      <th>2</th>\n",
       "      <td>[H]C1([H])N2C3([H])C([H])([H])C([H])(C3([H])[H...</td>\n",
       "      <td>-0.306760</td>\n",
       "    </tr>\n",
       "    <tr>\n",
       "      <th>3</th>\n",
       "      <td>[H]N1C(=O)N([H])C([H])([H])C([H])([H])C1([H])[H]</td>\n",
       "      <td>0.761837</td>\n",
       "    </tr>\n",
       "    <tr>\n",
       "      <th>4</th>\n",
       "      <td>[H]C#CC([H])([H])C([H])(O[H])C([H])=C([H])[H]</td>\n",
       "      <td>-0.015810</td>\n",
       "    </tr>\n",
       "    <tr>\n",
       "      <th>...</th>\n",
       "      <td>...</td>\n",
       "      <td>...</td>\n",
       "    </tr>\n",
       "    <tr>\n",
       "      <th>1995</th>\n",
       "      <td>[H]C1([H])OC2([H])C(=O)C1([H])C2([H])[H]</td>\n",
       "      <td>0.801767</td>\n",
       "    </tr>\n",
       "    <tr>\n",
       "      <th>1996</th>\n",
       "      <td>[H]C#CC(=O)C([H])([H])O[H]</td>\n",
       "      <td>2.138434</td>\n",
       "    </tr>\n",
       "    <tr>\n",
       "      <th>1997</th>\n",
       "      <td>[H]ON1N=C([H])C(=C1[H])C([H])([H])[H]</td>\n",
       "      <td>1.036636</td>\n",
       "    </tr>\n",
       "    <tr>\n",
       "      <th>1998</th>\n",
       "      <td>[H]C#CC([H])([H])C([H])(O[H])C([H])([H])[H]</td>\n",
       "      <td>0.661698</td>\n",
       "    </tr>\n",
       "    <tr>\n",
       "      <th>1999</th>\n",
       "      <td>[H]OC([H])([H])C([H])=C([H])C1([H])N([H])C1([H...</td>\n",
       "      <td>0.596375</td>\n",
       "    </tr>\n",
       "  </tbody>\n",
       "</table>\n",
       "<p>2000 rows × 2 columns</p>\n",
       "</div>"
      ],
      "text/plain": [
       "                                                 smiles   u0_atom\n",
       "0     [H]OC([H])([H])C([H])([H])C([H])([H])N([H])C([... -0.088626\n",
       "1     [H]C([H])([H])N(C([H])([H])[H])C1([H])C([H])([... -0.291058\n",
       "2     [H]C1([H])N2C3([H])C([H])([H])C([H])(C3([H])[H... -0.306760\n",
       "3      [H]N1C(=O)N([H])C([H])([H])C([H])([H])C1([H])[H]  0.761837\n",
       "4         [H]C#CC([H])([H])C([H])(O[H])C([H])=C([H])[H] -0.015810\n",
       "...                                                 ...       ...\n",
       "1995           [H]C1([H])OC2([H])C(=O)C1([H])C2([H])[H]  0.801767\n",
       "1996                         [H]C#CC(=O)C([H])([H])O[H]  2.138434\n",
       "1997              [H]ON1N=C([H])C(=C1[H])C([H])([H])[H]  1.036636\n",
       "1998        [H]C#CC([H])([H])C([H])(O[H])C([H])([H])[H]  0.661698\n",
       "1999  [H]OC([H])([H])C([H])=C([H])C1([H])N([H])C1([H...  0.596375\n",
       "\n",
       "[2000 rows x 2 columns]"
      ]
     },
     "execution_count": 19,
     "metadata": {},
     "output_type": "execute_result"
    }
   ],
   "source": [
    "qm7_reduced = qm7.iloc[np.random.randint(0, len(qm7), 2000)].reset_index(drop=True)\n",
    "qm7_reduced"
   ]
  },
  {
   "cell_type": "code",
   "execution_count": 20,
   "metadata": {},
   "outputs": [],
   "source": [
    "qm7_reduced.to_csv('qm7_reduced.csv', index = False)\n"
   ]
  },
  {
   "cell_type": "code",
   "execution_count": 23,
   "metadata": {},
   "outputs": [
    {
     "name": "stdout",
     "output_type": "stream",
     "text": [
      "{'Chi1n', 'Chi1v', 'Chi0v'} \n",
      "\n",
      "{'MaxPartialCharge', 'Kappa2'} \n",
      "\n",
      "{'SlogP_VSA4', 'EState_VSA9'} \n",
      "\n",
      "{'VSA_EState2', 'PEOE_VSA4', 'SlogP_VSA3'} \n",
      "\n",
      "{'BCUT2D_MRLOW', 'PEOE_VSA11', 'SlogP_VSA8', 'EState_VSA7', 'fr_Ndealkylation1', 'SMR_VSA5', 'fr_epoxide', 'fr_NH1', 'VSA_EState7'}\n"
     ]
    }
   ],
   "source": [
    "# qm7\n",
    "qm7_3 = ['Chi0v', 'Chi1n', 'Chi1v'] \n",
    "qm7_5 = ['MaxPartialCharge', 'Chi0v', 'Chi1n', 'Chi1v', 'Kappa2']\n",
    "qm7_7 = ['MaxPartialCharge', 'Chi0v', 'Chi1n', 'Chi1v', 'Kappa2', 'SlogP_VSA4', 'EState_VSA9']\n",
    "qm7_10 = ['MaxPartialCharge', 'Chi0v', 'Chi1n', 'Chi1v', 'Kappa2', 'PEOE_VSA4', 'SlogP_VSA3', 'SlogP_VSA4', 'EState_VSA9', 'VSA_EState2']\n",
    "qm7_20 = ['MaxPartialCharge', 'BCUT2D_MRLOW', 'Chi0v', 'Chi1n', 'Chi1v', 'Kappa2', 'PEOE_VSA11', 'PEOE_VSA4', 'SMR_VSA5', 'SlogP_VSA3', 'SlogP_VSA4', 'SlogP_VSA8', 'EState_VSA7', 'EState_VSA9', 'VSA_EState2', 'VSA_EState7', 'fr_NH1', 'fr_Ndealkylation1', 'fr_epoxide']\n",
    "\n",
    "print(set(qm7_3), '\\n')\n",
    "print(set(qm7_5) - set(qm7_3), '\\n')\n",
    "print(set(qm7_7) - set(qm7_5), '\\n')\n",
    "print(set(qm7_10) - set(qm7_7), '\\n')\n",
    "print(set(qm7_20) - set(qm7_10))\n"
   ]
  },
  {
   "cell_type": "code",
   "execution_count": 25,
   "metadata": {},
   "outputs": [
    {
     "data": {
      "text/plain": [
       "10"
      ]
     },
     "execution_count": 25,
     "metadata": {},
     "output_type": "execute_result"
    }
   ],
   "source": [
    "len(set(qm7_10))"
   ]
  },
  {
   "cell_type": "code",
   "execution_count": null,
   "metadata": {},
   "outputs": [],
   "source": []
  }
 ],
 "metadata": {
  "kernelspec": {
   "display_name": "ys3",
   "language": "python",
   "name": "python3"
  },
  "language_info": {
   "codemirror_mode": {
    "name": "ipython",
    "version": 3
   },
   "file_extension": ".py",
   "mimetype": "text/x-python",
   "name": "python",
   "nbconvert_exporter": "python",
   "pygments_lexer": "ipython3",
   "version": "3.8.20"
  }
 },
 "nbformat": 4,
 "nbformat_minor": 2
}
